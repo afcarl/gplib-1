{
 "cells": [
  {
   "cell_type": "markdown",
   "metadata": {},
   "source": [
    "# MNIST with CNN-features"
   ]
  },
  {
   "cell_type": "code",
   "execution_count": 27,
   "metadata": {
    "collapsed": false
   },
   "outputs": [
    {
     "name": "stdout",
     "output_type": "stream",
     "text": [
      "The autoreload extension is already loaded. To reload it, use:\n",
      "  %reload_ext autoreload\n"
     ]
    }
   ],
   "source": [
    "import sys\n",
    "sys.path.append('/Users/IzmailovPavel/Documents/Education/GPproject/gplib/')\n",
    "import numpy as np\n",
    "from matplotlib import pyplot as plt\n",
    "from sklearn.preprocessing import StandardScaler\n",
    "from sklearn.cluster import KMeans\n",
    "\n",
    "% load_ext autoreload\n",
    "% autoreload 2\n",
    "% matplotlib inline"
   ]
  },
  {
   "cell_type": "code",
   "execution_count": 2,
   "metadata": {
    "collapsed": true
   },
   "outputs": [],
   "source": [
    "from gplib.gpc import GPCLaplace, GPCSparse\n",
    "from gplib.optim.methods import *\n",
    "from gplib.covfun import SE"
   ]
  },
  {
   "cell_type": "code",
   "execution_count": 16,
   "metadata": {
    "collapsed": true
   },
   "outputs": [],
   "source": [
    "x_tr = np.load('../../../GPtf/data/mnist/features_tr.npy')\n",
    "x_te = np.load('../../../GPtf/data/mnist/features_te.npy')"
   ]
  },
  {
   "cell_type": "code",
   "execution_count": 5,
   "metadata": {
    "collapsed": false
   },
   "outputs": [
    {
     "name": "stderr",
     "output_type": "stream",
     "text": [
      "Using TensorFlow backend.\n"
     ]
    }
   ],
   "source": [
    "from keras.datasets import mnist"
   ]
  },
  {
   "cell_type": "code",
   "execution_count": 17,
   "metadata": {
    "collapsed": true
   },
   "outputs": [],
   "source": [
    "(_, y_tr), (_, y_te) = mnist.load_data()"
   ]
  },
  {
   "cell_type": "code",
   "execution_count": 18,
   "metadata": {
    "collapsed": false
   },
   "outputs": [
    {
     "name": "stdout",
     "output_type": "stream",
     "text": [
      "of objects: 60000\n",
      "of features: 64\n",
      "mnist\n"
     ]
    }
   ],
   "source": [
    "data_name = 'mnist'\n",
    "\n",
    "scaler = StandardScaler()\n",
    "x_tr = scaler.fit_transform(x_tr)\n",
    "x_te = scaler.transform(x_te)\n",
    "\n",
    "y_tr = (y_tr %2 == 0).astype(float)\n",
    "y_te = (y_te %2 == 0).astype(float)\n",
    "\n",
    "x_tr = (x_tr + 1) / 2\n",
    "x_te = (x_te + 1) / 2\n",
    "y_tr = y_tr[:, None]\n",
    "y_te = y_te[:, None]\n",
    "y_tr[y_tr == 0] = -1\n",
    "y_te[y_te == 0] = -1\n",
    "num, dim = x_tr.shape\n",
    "print('of objects:', num)\n",
    "print('of features:', dim)\n",
    "print(data_name)"
   ]
  },
  {
   "cell_type": "code",
   "execution_count": 43,
   "metadata": {
    "collapsed": false
   },
   "outputs": [
    {
     "name": "stdout",
     "output_type": "stream",
     "text": [
      "Finding means...\n",
      "...found\n"
     ]
    }
   ],
   "source": [
    "ind_num = 500\n",
    "print('Finding means...')\n",
    "means = KMeans(n_clusters=ind_num, n_init=3, max_iter=100, random_state=241)\n",
    "means.fit(x_tr)\n",
    "inputs = means.cluster_centers_\n",
    "print('...found')"
   ]
  },
  {
   "cell_type": "code",
   "execution_count": 44,
   "metadata": {
    "collapsed": true
   },
   "outputs": [],
   "source": [
    "gp = GPCSparse(SE(np.array([1., .5, .2])), inputs=inputs)"
   ]
  },
  {
   "cell_type": "code",
   "execution_count": 45,
   "metadata": {
    "collapsed": false,
    "scrolled": true
   },
   "outputs": [
    {
     "name": "stdout",
     "output_type": "stream",
     "text": [
      "Outter iteration 0 :\n",
      "\tparameters: [  7.93559810e-01   1.60303521e+00   6.09410148e-04]\n",
      "Outter iteration 1 :\n",
      "\tparameters: [ 1.15225056  1.84067033 -0.00424715]\n",
      "Outter iteration 2 :\n",
      "\tparameters: [  1.34688624e+00   2.05435475e+00  -1.09481693e-03]\n",
      "Outter iteration 3 :\n",
      "\tparameters: [  1.48167077e+00   2.24188498e+00  -7.06322212e-04]\n",
      "Outter iteration 4 :\n",
      "\tparameters: [  1.54204052e+00   2.28518768e+00   1.81972687e-03]\n"
     ]
    }
   ],
   "source": [
    "options = {'optimizer': LBFGS(disp=False, maxfun=5), 'maxiter': 5, 'disp':1}\n",
    "res = gp.fit(x_tr, y_tr, method='JJ', options=options)"
   ]
  },
  {
   "cell_type": "code",
   "execution_count": 46,
   "metadata": {
    "collapsed": true
   },
   "outputs": [],
   "source": [
    "y_pred = gp.predict(x_te)"
   ]
  },
  {
   "cell_type": "code",
   "execution_count": 47,
   "metadata": {
    "collapsed": false
   },
   "outputs": [
    {
     "data": {
      "text/plain": [
       "0.90949999999999998"
      ]
     },
     "execution_count": 47,
     "metadata": {},
     "output_type": "execute_result"
    }
   ],
   "source": [
    "gp.get_quality(y_te, y_pred)"
   ]
  },
  {
   "cell_type": "code",
   "execution_count": 48,
   "metadata": {
    "collapsed": false
   },
   "outputs": [
    {
     "data": {
      "text/plain": [
       "<matplotlib.text.Text at 0x10d1652e8>"
      ]
     },
     "execution_count": 48,
     "metadata": {},
     "output_type": "execute_result"
    },
    {
     "data": {
      "image/png": "[encoded data removed]",
      "text/plain": [
       "<matplotlib.figure.Figure at 0x10d539fd0>"
      ]
     },
     "metadata": {},
     "output_type": "display_data"
    }
   ],
   "source": [
    "metric = lambda w: gp.get_prediction_quality(x_te, y_te, w)\n",
    "x_lst, y_lst = res.plot_performance(metric, 't', freq=1)\n",
    "plt.plot(x_lst, y_lst, '-bx', label='vi-JJ')\n",
    "plt.ylim([.5, 1.])\n",
    "plt.legend()\n",
    "plt.xlabel('Seconds')\n",
    "plt.ylabel('Accuracy')"
   ]
  },
  {
   "cell_type": "code",
   "execution_count": null,
   "metadata": {
    "collapsed": true
   },
   "outputs": [],
   "source": []
  }
 ],
 "metadata": {
  "kernelspec": {
   "display_name": "Python 3",
   "language": "python",
   "name": "python3"
  },
  "language_info": {
   "codemirror_mode": {
    "name": "ipython",
    "version": 3
   },
   "file_extension": ".py",
   "mimetype": "text/x-python",
   "name": "python",
   "nbconvert_exporter": "python",
   "pygments_lexer": "ipython3",
   "version": "3.4.3"
  }
 },
 "nbformat": 4,
 "nbformat_minor": 0
}
