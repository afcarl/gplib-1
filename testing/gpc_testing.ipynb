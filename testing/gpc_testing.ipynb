{
 "cells": [
  {
   "cell_type": "code",
   "execution_count": 1,
   "metadata": {
    "collapsed": false
   },
   "outputs": [],
   "source": [
    "import sys\n",
    "sys.path.append('/Users/IzmailovPavel/Documents/Education/GPproject/gplib/')\n",
    "import numpy as np\n",
    "% load_ext autoreload\n",
    "% autoreload 2\n",
    "from matplotlib import pyplot as plt\n",
    "% matplotlib inline"
   ]
  },
  {
   "cell_type": "code",
   "execution_count": 2,
   "metadata": {
    "collapsed": false
   },
   "outputs": [],
   "source": [
    "from gplib.gpc import GPCLaplace, GPCSparse\n",
    "from gplib.covfun import SE"
   ]
  },
  {
   "cell_type": "code",
   "execution_count": 3,
   "metadata": {
    "collapsed": false
   },
   "outputs": [],
   "source": [
    "dim = 2\n",
    "num = 200\n",
    "test_num= 100\n",
    "x_tr = np.random.rand(num, dim)\n",
    "if dim == 1:\n",
    "    x_test = np.linspace(0, 1, test_num)\n",
    "    x_test = x_test.reshape(test_num, 1)\n",
    "else:\n",
    "    x_test = np.random.rand(test_num, dim)"
   ]
  },
  {
   "cell_type": "code",
   "execution_count": 4,
   "metadata": {
    "collapsed": false
   },
   "outputs": [],
   "source": [
    "data_gp = GPCLaplace(SE(np.array([1., .2, .1])))"
   ]
  },
  {
   "cell_type": "code",
   "execution_count": 5,
   "metadata": {
    "collapsed": false
   },
   "outputs": [],
   "source": [
    "y_tr, y_te = data_gp.generate_data(x_tr, x_test)"
   ]
  },
  {
   "cell_type": "code",
   "execution_count": 6,
   "metadata": {
    "collapsed": false,
    "scrolled": true
   },
   "outputs": [
    {
     "data": {
      "text/plain": [
       "[<matplotlib.lines.Line2D at 0x10cabb208>]"
      ]
     },
     "execution_count": 6,
     "metadata": {},
     "output_type": "execute_result"
    },
    {
     "data": {
      "image/png": "[encoded data removed]",
      "text/plain": [
       "<matplotlib.figure.Figure at 0x10cabb240>"
      ]
     },
     "metadata": {},
     "output_type": "display_data"
    }
   ],
   "source": [
    "plt.plot(x_tr[y_tr[:, 0] == 1, 0], x_tr[y_tr[:, 0] == 1, 1], 'bo')\n",
    "plt.plot(x_tr[y_tr[:, 0] == -1, 0], x_tr[y_tr[:, 0] == -1, 1], 'ro')"
   ]
  },
  {
   "cell_type": "markdown",
   "metadata": {},
   "source": [
    "## Laplace"
   ]
  },
  {
   "cell_type": "code",
   "execution_count": 35,
   "metadata": {
    "collapsed": true
   },
   "outputs": [],
   "source": [
    "gp = GPCLaplace(SE(np.array([2., .5, .2])))"
   ]
  },
  {
   "cell_type": "code",
   "execution_count": 36,
   "metadata": {
    "collapsed": true
   },
   "outputs": [
    {
     "name": "stdout",
     "output_type": "stream",
     "text": [
      "Iteration  0\n",
      "Hyper-parameters at iteration  0 :  [ 1.98091039  0.40713973  0.16661261]\n"
     ]
    },
    {
     "data": {
      "text/plain": [
       "([array([ 1.98091039,  0.40713973,  0.16661261]),\n",
       "  array([ 2.26189435,  0.33835752,  0.14058381]),\n",
       "  array([ 2.98878067,  0.29762022,  0.10005031]),\n",
       "  array([ 3.59238526,  0.26205742,  0.09007999]),\n",
       "  array([ 3.96756352,  0.23162756,  0.09234737]),\n",
       "  array([ 4.17327702,  0.20402162,  0.13168827]),\n",
       "  array([ 4.07476576,  0.18794396,  0.0977584 ]),\n",
       "  array([ 3.71108877,  0.16372879,  0.11112279]),\n",
       "  array([ 3.78963506,  0.15264836,  0.09426979]),\n",
       "  array([ 3.48783175,  0.14118879,  0.12487628])],\n",
       " [0.38850903511047363,\n",
       "  0.7271380424499512,\n",
       "  1.1673741340637207,\n",
       "  1.536700963973999,\n",
       "  2.082357168197632,\n",
       "  2.5592880249023438,\n",
       "  2.8925940990448,\n",
       "  3.543760061264038,\n",
       "  3.912933111190796,\n",
       "  4.529102087020874])"
      ]
     },
     "execution_count": 36,
     "metadata": {},
     "output_type": "execute_result"
    }
   ],
   "source": [
    "gp.fit(x_tr, y_tr, max_iter=10)"
   ]
  },
  {
   "cell_type": "code",
   "execution_count": 37,
   "metadata": {
    "collapsed": false
   },
   "outputs": [],
   "source": [
    "y_pred = gp.predict(x_test, x_tr, y_tr)"
   ]
  },
  {
   "cell_type": "code",
   "execution_count": 38,
   "metadata": {
    "collapsed": false
   },
   "outputs": [
    {
     "data": {
      "text/plain": [
       "97"
      ]
     },
     "execution_count": 38,
     "metadata": {},
     "output_type": "execute_result"
    }
   ],
   "source": [
    "np.sum(y_pred == y_te)"
   ]
  },
  {
   "cell_type": "markdown",
   "metadata": {},
   "source": [
    "## Inducing Inputs\n",
    "### svi"
   ]
  },
  {
   "cell_type": "code",
   "execution_count": 7,
   "metadata": {
    "collapsed": false
   },
   "outputs": [],
   "source": [
    "gp = GPCSparse(SE(np.array([1., .7, .2])), inputs=30)"
   ]
  },
  {
   "cell_type": "code",
   "execution_count": 8,
   "metadata": {
    "collapsed": true
   },
   "outputs": [
    {
     "name": "stdout",
     "output_type": "stream",
     "text": [
      "Using AdaDelta optimizer\n",
      "Iteration  10 :\n",
      "\tGradient norm 2.22224949054\n",
      "Iteration  20 :\n",
      "\tGradient norm 2.09777766627\n",
      "Iteration  30 :\n",
      "\tGradient norm 3.35295904039\n",
      "Iteration  40 :\n",
      "\tGradient norm 3.10968555511\n",
      "Iteration  50 :\n",
      "\tGradient norm 3.41012247859\n",
      "Iteration  60 :\n",
      "\tGradient norm 2.26286852108\n",
      "Iteration  70 :\n",
      "\tGradient norm 2.77656053015\n",
      "Iteration  80 :\n",
      "\tGradient norm 2.48995893457\n",
      "Iteration  90 :\n",
      "\tGradient norm 2.87380266316\n",
      "Iteration  100 :\n",
      "\tGradient norm 2.51570278785\n"
     ]
    }
   ],
   "source": [
    "options = {'hermgauss_deg': 100, 'mode': 'adadelta', 'maxiter': 100, \n",
    "           'verbose': True, 'batch_size':20, 'step_rate': 0.5, 'decay': 0.8,\n",
    "           'print_freq': 10}\n",
    "res = gp.fit(x_tr, y_tr, method='svi', method_options=options)"
   ]
  },
  {
   "cell_type": "code",
   "execution_count": 9,
   "metadata": {
    "collapsed": true
   },
   "outputs": [],
   "source": [
    "y_pred = gp.predict(x_test)"
   ]
  },
  {
   "cell_type": "code",
   "execution_count": 10,
   "metadata": {
    "collapsed": false
   },
   "outputs": [
    {
     "data": {
      "text/plain": [
       "94"
      ]
     },
     "execution_count": 10,
     "metadata": {},
     "output_type": "execute_result"
    }
   ],
   "source": [
    "np.sum(y_pred == y_te)"
   ]
  },
  {
   "cell_type": "code",
   "execution_count": 12,
   "metadata": {
    "collapsed": false
   },
   "outputs": [
    {
     "data": {
      "text/plain": [
       "<matplotlib.text.Text at 0x10d34b3c8>"
      ]
     },
     "execution_count": 12,
     "metadata": {},
     "output_type": "execute_result"
    },
    {
     "data": {
      "image/png": "[encoded data removed]",
      "text/plain": [
       "<matplotlib.figure.Figure at 0x10ca11668>"
      ]
     },
     "metadata": {},
     "output_type": "display_data"
    }
   ],
   "source": [
    "metric = lambda w: gp.get_prediction_quality(w, x_test, y_te)\n",
    "x_lst, y_lst = res.plot_performance(metric, 't', freq=1)\n",
    "plt.plot(x_lst[1:], y_lst[1:], '-rx', label='svi-AdaDelta')\n",
    "plt.ylim([.8, 1.])\n",
    "plt.legend()\n",
    "plt.xlabel('Seconds')\n",
    "plt.ylabel('Accuracy')"
   ]
  },
  {
   "cell_type": "markdown",
   "metadata": {},
   "source": [
    "### vi-JJ"
   ]
  },
  {
   "cell_type": "code",
   "execution_count": 13,
   "metadata": {
    "collapsed": false
   },
   "outputs": [],
   "source": [
    "gp = GPCSparse(SE(np.array([1., .7, .2])), inputs=30)"
   ]
  },
  {
   "cell_type": "code",
   "execution_count": 14,
   "metadata": {
    "collapsed": true
   },
   "outputs": [
    {
     "name": "stdout",
     "output_type": "stream",
     "text": [
      "Hyper-parameters at iteration 0 : [ 1.   0.7  0.2]\n",
      "Hyper-parameters at iteration 1 : [ 5.67347996  0.57886797  0.1666448 ]\n",
      "Hyper-parameters at iteration 2 : [ 5.39391194  0.45777958  0.10582451]\n",
      "Hyper-parameters at iteration 3 : [ 5.01506708  0.41447177  0.01      ]\n",
      "\tHyper-parameters at outter iteration 0 : [ 4.80456826  0.44115249  0.01      ]\n",
      "Hyper-parameters at iteration 0 : [ 4.80456826  0.44115249  0.01      ]\n",
      "Hyper-parameters at iteration 1 : [ 4.80147208  0.39740808  0.01      ]\n",
      "Hyper-parameters at iteration 2 : [ 4.7999828   0.39893089  0.01      ]\n",
      "\tHyper-parameters at outter iteration 1 : [ 4.79583633  0.39996448  0.01      ]\n",
      "Hyper-parameters at iteration 0 : [ 4.79583633  0.39996448  0.01      ]\n",
      "Hyper-parameters at iteration 1 : [ 4.80618721  0.37252763  0.01      ]\n",
      "Hyper-parameters at iteration 2 : [ 4.80314656  0.37945217  0.01      ]\n",
      "\tHyper-parameters at outter iteration 2 : [ 4.80287865  0.3791082   0.01      ]\n",
      "Hyper-parameters at iteration 0 : [ 4.80287865  0.3791082   0.01      ]\n",
      "Hyper-parameters at iteration 1 : [ 4.81597227  0.35933041  0.01      ]\n",
      "Hyper-parameters at iteration 2 : [ 4.81046534  0.36774127  0.01      ]\n",
      "\tHyper-parameters at outter iteration 3 : [ 4.81063901  0.36755366  0.01      ]\n",
      "Hyper-parameters at iteration 0 : [ 4.81063901  0.36755366  0.01      ]\n",
      "Hyper-parameters at iteration 1 : [ 4.81705565  0.36041548  0.01      ]\n",
      "\tHyper-parameters at outter iteration 4 : [ 4.81751749  0.36040705  0.01      ]\n",
      "Hyper-parameters at iteration 0 : [ 4.81751749  0.36040705  0.01      ]\n",
      "Hyper-parameters at iteration 1 : [ 4.82255445  0.3557167   0.01      ]\n",
      "\tHyper-parameters at outter iteration 5 : [ 4.82335059  0.35572324  0.01      ]\n",
      "Hyper-parameters at iteration 0 : [ 4.82335059  0.35572324  0.01      ]\n",
      "Hyper-parameters at iteration 1 : [ 4.82715656  0.35254093  0.01      ]\n",
      "\tHyper-parameters at outter iteration 6 : [ 4.82821928  0.35255946  0.01      ]\n",
      "Hyper-parameters at iteration 0 : [ 4.82821928  0.35255946  0.01      ]\n",
      "Hyper-parameters at iteration 1 : [ 4.83102679  0.35036413  0.01      ]\n",
      "\tHyper-parameters at outter iteration 7 : [ 4.83228922  0.35039132  0.01      ]\n",
      "Hyper-parameters at iteration 0 : [ 4.83228922  0.35039132  0.01      ]\n",
      "Hyper-parameters at iteration 1 : [ 4.83432732  0.34886394  0.01      ]\n",
      "\tHyper-parameters at outter iteration 8 : [ 4.83573298  0.34889719  0.01      ]\n",
      "Hyper-parameters at iteration 0 : [ 4.83573298  0.34889719  0.01      ]\n",
      "Hyper-parameters at iteration 1 : [ 4.83749667  0.34775867  0.01      ]\n",
      "\tHyper-parameters at outter iteration 9 : [ 4.87484266  0.34844536  0.01      ]\n",
      "Hyper-parameters at iteration 0 : [ 4.87484266  0.34844536  0.01      ]\n",
      "Hyper-parameters at iteration 1 : [ 4.87732308  0.34989824  0.01      ]\n",
      "Hyper-parameters at iteration 2 : [ 4.9224491   0.34883354  0.01      ]\n",
      "\tHyper-parameters at outter iteration 10 : [ 5.17903983  0.35169163  0.01      ]\n",
      "Hyper-parameters at iteration 0 : [ 5.17903983  0.35169163  0.01      ]\n",
      "Hyper-parameters at iteration 1 : [ 5.17930205  0.35529758  0.01      ]\n",
      "\tHyper-parameters at outter iteration 11 : [ 5.18665761  0.3555937   0.01      ]\n",
      "Hyper-parameters at iteration 0 : [ 5.18665761  0.3555937   0.01      ]\n",
      "Hyper-parameters at iteration 1 : [ 5.18751977  0.35766981  0.01      ]\n",
      "Hyper-parameters at iteration 2 : [ 5.18761327  0.35672397  0.01      ]\n",
      "Hyper-parameters at iteration 3 : [ 5.18823581  0.35652481  0.01      ]\n",
      "Hyper-parameters at iteration 4 : [ 5.19532122  0.35556844  0.01      ]\n",
      "\tHyper-parameters at outter iteration 12 : [ 5.21151762  0.35469715  0.01      ]\n",
      "Hyper-parameters at iteration 0 : [ 5.21151762  0.35469715  0.01      ]\n",
      "Hyper-parameters at iteration 1 : [ 5.2119101   0.35668153  0.01      ]\n",
      "\tHyper-parameters at outter iteration 13 : [ 5.22115388  0.3569045   0.01      ]\n",
      "Hyper-parameters at iteration 0 : [ 5.22115388  0.3569045   0.01      ]\n",
      "Hyper-parameters at iteration 1 : [ 5.22217385  0.35823769  0.01      ]\n",
      "Hyper-parameters at iteration 2 : [ 5.22260525  0.35785631  0.01      ]\n",
      "Hyper-parameters at iteration 3 : [ 5.22583898  0.35709667  0.01      ]\n",
      "Hyper-parameters at iteration 4 : [ 5.23605711  0.35615911  0.01      ]\n",
      "\tHyper-parameters at outter iteration 14 : [ 5.26685592  0.35507395  0.01      ]\n",
      "Hyper-parameters at iteration 0 : [ 5.26685592  0.35507395  0.01      ]\n",
      "Hyper-parameters at iteration 1 : [ 5.26722925  0.35759016  0.01      ]\n",
      "\tHyper-parameters at outter iteration 15 : [ 5.27633223  0.35781444  0.01      ]\n",
      "Hyper-parameters at iteration 0 : [ 5.27633223  0.35781444  0.01      ]\n",
      "Hyper-parameters at iteration 1 : [ 5.27730515  0.35950091  0.01      ]\n",
      "Hyper-parameters at iteration 2 : [ 5.27752776  0.35884447  0.01      ]\n",
      "Hyper-parameters at iteration 3 : [ 5.27865207  0.35846108  0.01      ]\n",
      "Hyper-parameters at iteration 4 : [ 5.28505352  0.3575674   0.01      ]\n",
      "\tHyper-parameters at outter iteration 16 : [ 5.30186177  0.35659081  0.01      ]\n",
      "Hyper-parameters at iteration 0 : [ 5.30186177  0.35659081  0.01      ]\n",
      "Hyper-parameters at iteration 1 : [ 5.30226545  0.35864499  0.01      ]\n",
      "\tHyper-parameters at outter iteration 17 : [ 5.3117671   0.35887194  0.01      ]\n",
      "Hyper-parameters at iteration 0 : [ 5.3117671   0.35887194  0.01      ]\n",
      "Hyper-parameters at iteration 1 : [ 5.31275727  0.36034696  0.01      ]\n",
      "Hyper-parameters at iteration 2 : [ 5.31308504  0.35985272  0.01      ]\n",
      "Hyper-parameters at iteration 3 : [ 5.31493887  0.3593007   0.01      ]\n",
      "Hyper-parameters at iteration 4 : [ 5.32239139  0.35840935  0.01      ]\n",
      "\tHyper-parameters at outter iteration 18 : [ 5.3436849  0.3573606  0.01     ]\n",
      "Hyper-parameters at iteration 0 : [ 5.3436849  0.3573606  0.01     ]\n",
      "Hyper-parameters at iteration 1 : [ 5.34407324  0.35959048  0.01      ]\n",
      "\tHyper-parameters at outter iteration 19 : [ 5.35333608  0.35981206  0.01      ]\n"
     ]
    }
   ],
   "source": [
    "options = {'maxfun': 5, 'disp': False, 'mydisp': True, 'num_updates':5}\n",
    "res = gp.fit(x_tr, y_tr, method='vi_jj', method_options=options)"
   ]
  },
  {
   "cell_type": "code",
   "execution_count": 15,
   "metadata": {
    "collapsed": false
   },
   "outputs": [],
   "source": [
    "y_pred = gp.predict(x_test)"
   ]
  },
  {
   "cell_type": "code",
   "execution_count": 16,
   "metadata": {
    "collapsed": false
   },
   "outputs": [
    {
     "data": {
      "text/plain": [
       "93"
      ]
     },
     "execution_count": 16,
     "metadata": {},
     "output_type": "execute_result"
    }
   ],
   "source": [
    "np.sum(y_pred == y_te)"
   ]
  },
  {
   "cell_type": "code",
   "execution_count": 17,
   "metadata": {
    "collapsed": false
   },
   "outputs": [
    {
     "data": {
      "text/plain": [
       "<matplotlib.text.Text at 0x10d181080>"
      ]
     },
     "execution_count": 17,
     "metadata": {},
     "output_type": "execute_result"
    },
    {
     "data": {
      "image/png": "[encoded data removed]",
      "text/plain": [
       "<matplotlib.figure.Figure at 0x10d347128>"
      ]
     },
     "metadata": {},
     "output_type": "display_data"
    }
   ],
   "source": [
    "metric = lambda w: gp.get_prediction_quality(w, x_test, y_te)\n",
    "x_lst, y_lst = res.plot_performance(metric, 't', freq=1)\n",
    "plt.plot(x_lst[1:], y_lst[1:], '-bx', label='vi-JJ')\n",
    "plt.ylim([.8, 1.])\n",
    "plt.legend()\n",
    "plt.xlabel('Seconds')\n",
    "plt.ylabel('Accuracy')"
   ]
  },
  {
   "cell_type": "markdown",
   "metadata": {},
   "source": [
    "### vi-Taylor"
   ]
  },
  {
   "cell_type": "code",
   "execution_count": 7,
   "metadata": {
    "collapsed": false
   },
   "outputs": [],
   "source": [
    "gp = GPCSparse(SE(np.array([1., .5, .2])), inputs=30)"
   ]
  },
  {
   "cell_type": "code",
   "execution_count": 8,
   "metadata": {
    "collapsed": true
   },
   "outputs": [
    {
     "name": "stdout",
     "output_type": "stream",
     "text": [
      "Hyper-parameters at iteration 0 : [ 1.   0.5  0.2]\n",
      "Hyper-parameters at iteration 1 : [ 2.97218787  0.42284394  0.17008234]\n",
      "Hyper-parameters at iteration 2 : [ 2.65482752  0.32383995  0.10958634]\n",
      "Hyper-parameters at iteration 3 : [ 2.0193703   0.28913794  0.02614374]\n",
      "\tHyper-parameters at outter iteration 0 : [ 0.01        0.14782286  0.01      ]\n",
      "Hyper-parameters at iteration 0 : [ 0.01        0.14782286  0.01      ]\n",
      "Hyper-parameters at iteration 1 : [ 0.73198705  0.16280628  0.01      ]\n",
      "Hyper-parameters at iteration 2 : [ 1.04369815  0.21613323  0.01      ]\n",
      "\tHyper-parameters at outter iteration 1 : [ 0.50047803  0.24209569  0.01      ]\n",
      "Hyper-parameters at iteration 0 : [ 0.50047803  0.24209569  0.01      ]\n",
      "Hyper-parameters at iteration 1 : [ 2.10171466  0.23360082  0.01      ]\n",
      "Hyper-parameters at iteration 2 : [ 2.2008236   0.29121271  0.01      ]\n",
      "\tHyper-parameters at outter iteration 2 : [ 1.82324353  0.26097924  0.01      ]\n",
      "Hyper-parameters at iteration 0 : [ 1.82324353  0.26097924  0.01      ]\n",
      "Hyper-parameters at iteration 1 : [ 2.04678918  0.2555276   0.01      ]\n",
      "Hyper-parameters at iteration 2 : [ 2.3417392   0.22633921  0.01      ]\n",
      "Hyper-parameters at iteration 3 : [ 2.45745559  0.23399226  0.01      ]\n",
      "Hyper-parameters at iteration 4 : [ 2.77661228  0.24921427  0.01      ]\n",
      "\tHyper-parameters at outter iteration 3 : [ 2.90898056  0.25393324  0.01      ]\n",
      "Hyper-parameters at iteration 0 : [ 2.90898056  0.25393324  0.01      ]\n",
      "Hyper-parameters at iteration 1 : [ 2.96315557  0.2508049   0.01      ]\n",
      "Hyper-parameters at iteration 2 : [ 3.3549455   0.23126245  0.01      ]\n",
      "Hyper-parameters at iteration 3 : [ 3.40812475  0.23398083  0.01      ]\n",
      "Hyper-parameters at iteration 4 : [ 3.85400908  0.25001732  0.01      ]\n",
      "\tHyper-parameters at outter iteration 4 : [ 4.00535026  0.25353251  0.01      ]\n",
      "Hyper-parameters at iteration 0 : [ 4.00535026  0.25353251  0.01      ]\n",
      "Hyper-parameters at iteration 1 : [ 4.17939159  0.23009007  0.01      ]\n",
      "Hyper-parameters at iteration 2 : [ 4.1373287   0.23743263  0.01      ]\n",
      "\tHyper-parameters at outter iteration 5 : [ 4.1491976   0.23713336  0.01      ]\n",
      "Hyper-parameters at iteration 0 : [ 4.1491976   0.23713336  0.01      ]\n",
      "Hyper-parameters at iteration 1 : [ 4.18283454  0.23055503  0.01      ]\n",
      "\tHyper-parameters at outter iteration 6 : [ 4.1891705   0.23060771  0.01      ]\n",
      "Hyper-parameters at iteration 0 : [ 4.1891705   0.23060771  0.01      ]\n",
      "Hyper-parameters at iteration 1 : [ 4.19748692  0.22855987  0.01      ]\n",
      "\tHyper-parameters at outter iteration 7 : [ 4.20161658  0.22860934  0.01      ]\n",
      "Hyper-parameters at iteration 0 : [ 4.20161658  0.22860934  0.01      ]\n",
      "Hyper-parameters at iteration 1 : [ 4.20215481  0.22915503  0.01      ]\n",
      "\tHyper-parameters at outter iteration 8 : [ 4.21366101  0.22936684  0.01      ]\n",
      "Hyper-parameters at iteration 0 : [ 4.21366101  0.22936684  0.01      ]\n",
      "Hyper-parameters at iteration 1 : [ 4.21747504  0.22835244  0.01      ]\n",
      "\tHyper-parameters at outter iteration 9 : [ 4.22098138  0.22840543  0.01      ]\n",
      "Hyper-parameters at iteration 0 : [ 4.22098138  0.22840543  0.01      ]\n",
      "Hyper-parameters at iteration 1 : [ 4.22128967  0.22911005  0.01      ]\n",
      "\tHyper-parameters at outter iteration 10 : [ 4.2278878   0.22906581  0.01      ]\n",
      "Hyper-parameters at iteration 0 : [ 4.2278878   0.22906581  0.01      ]\n",
      "Hyper-parameters at iteration 1 : [ 4.22899451  0.22970482  0.01      ]\n",
      "\tHyper-parameters at outter iteration 11 : [ 4.2524722   0.23013454  0.01      ]\n",
      "Hyper-parameters at iteration 0 : [ 4.2524722   0.23013454  0.01      ]\n",
      "Hyper-parameters at iteration 1 : [ 4.25673913  0.22896869  0.01      ]\n",
      "\tHyper-parameters at outter iteration 12 : [ 4.25998292  0.22901273  0.01      ]\n",
      "Hyper-parameters at iteration 0 : [ 4.25998292  0.22901273  0.01      ]\n",
      "Hyper-parameters at iteration 1 : [ 4.26030029  0.22962512  0.01      ]\n",
      "\tHyper-parameters at outter iteration 13 : [ 4.26714333  0.22969731  0.01      ]\n",
      "Hyper-parameters at iteration 0 : [ 4.26714333  0.22969731  0.01      ]\n",
      "Hyper-parameters at iteration 1 : [ 4.29418012  0.23291649  0.01      ]\n",
      "Hyper-parameters at iteration 2 : [ 4.40951124  0.23361588  0.01      ]\n",
      "Hyper-parameters at iteration 3 : [ 4.95463946  0.24201625  0.01      ]\n",
      "\tHyper-parameters at outter iteration 14 : [ 5.15937684  0.24579134  0.01      ]\n",
      "Hyper-parameters at iteration 0 : [ 5.15937684  0.24579134  0.01      ]\n",
      "Hyper-parameters at iteration 1 : [ 5.16706853  0.24172589  0.01      ]\n",
      "\tHyper-parameters at outter iteration 15 : [ 5.16760755  0.24164695  0.01      ]\n",
      "Hyper-parameters at iteration 0 : [ 5.16760755  0.24164695  0.01      ]\n",
      "Hyper-parameters at iteration 1 : [ 5.16963251  0.24024607  0.01      ]\n",
      "\tHyper-parameters at outter iteration 16 : [ 5.16995159  0.24021699  0.01      ]\n",
      "Hyper-parameters at iteration 0 : [ 5.16995159  0.24021699  0.01      ]\n",
      "Hyper-parameters at iteration 1 : [ 5.17052711  0.23976533  0.01      ]\n",
      "\tHyper-parameters at outter iteration 17 : [ 5.1707745   0.23975797  0.01      ]\n",
      "Hyper-parameters at iteration 0 : [ 5.1707745   0.23975797  0.01      ]\n",
      "Hyper-parameters at iteration 1 : [ 5.17131436  0.23952642  0.01      ]\n",
      "\tHyper-parameters at outter iteration 18 : [ 5.1833277   0.23955418  0.01      ]\n",
      "Hyper-parameters at iteration 0 : [ 5.1833277   0.23955418  0.01      ]\n",
      "Hyper-parameters at iteration 1 : [ 5.18343678  0.23978916  0.01      ]\n",
      "\tHyper-parameters at outter iteration 19 : [ 5.1858048   0.23982658  0.01      ]\n"
     ]
    }
   ],
   "source": [
    "options = {'maxfun': 5, 'disp': False, 'mydisp': True, 'num_updates':5}\n",
    "res = gp.fit(x_tr, y_tr, method='vi_taylor', method_options=options)"
   ]
  },
  {
   "cell_type": "code",
   "execution_count": 9,
   "metadata": {
    "collapsed": true
   },
   "outputs": [],
   "source": [
    "y_pred = gp.predict(x_test)"
   ]
  },
  {
   "cell_type": "code",
   "execution_count": 10,
   "metadata": {
    "collapsed": false
   },
   "outputs": [
    {
     "data": {
      "text/plain": [
       "92"
      ]
     },
     "execution_count": 10,
     "metadata": {},
     "output_type": "execute_result"
    }
   ],
   "source": [
    "np.sum(y_pred == y_te)"
   ]
  },
  {
   "cell_type": "code",
   "execution_count": 11,
   "metadata": {
    "collapsed": false
   },
   "outputs": [
    {
     "data": {
      "text/plain": [
       "<matplotlib.text.Text at 0x10d1602b0>"
      ]
     },
     "execution_count": 11,
     "metadata": {},
     "output_type": "execute_result"
    },
    {
     "data": {
      "image/png": "[encoded data removed]",
      "text/plain": [
       "<matplotlib.figure.Figure at 0x10cbd2080>"
      ]
     },
     "metadata": {},
     "output_type": "display_data"
    }
   ],
   "source": [
    "metric = lambda w: gp.get_prediction_quality(w, x_test, y_te)\n",
    "x_lst, y_lst = res.plot_performance(metric, 't', freq=1)\n",
    "plt.plot(x_lst[1:], y_lst[1:], '-bx', label='vi-JJ')\n",
    "plt.ylim([.8, 1.])\n",
    "plt.legend()\n",
    "plt.xlabel('Seconds')\n",
    "plt.ylabel('Accuracy')"
   ]
  },
  {
   "cell_type": "markdown",
   "metadata": {},
   "source": [
    "### vi-JJ-full"
   ]
  },
  {
   "cell_type": "code",
   "execution_count": 7,
   "metadata": {
    "collapsed": false
   },
   "outputs": [],
   "source": [
    "gp = GPCSparse(SE(np.array([1., .5, .2])), inputs=30)"
   ]
  },
  {
   "cell_type": "code",
   "execution_count": 8,
   "metadata": {
    "collapsed": false
   },
   "outputs": [
    {
     "name": "stdout",
     "output_type": "stream",
     "text": [
      "Hybrid mode\n",
      "\tAnalytic updates number:5\n",
      "\t Outter iteration 0\n",
      "Hyper-parameters at iteration 0 : [ 1.   0.5  0.2  1.   1. ]\n",
      "Hyper-parameters at iteration 1 : [ 1.99903695  0.46374744  0.18594289  0.99936838  1.0030879 ]\n",
      "Hyper-parameters at iteration 2 : [ 2.53394122  0.20730255  0.08650507  0.99883159  1.00748517]\n",
      "\t Outter iteration 1\n",
      "Hyper-parameters at iteration 0 : [ 2.48022948  0.23767552  0.08745236  0.54253001  3.95195142]\n",
      "Hyper-parameters at iteration 1 : [ 2.93247725  0.21644957  0.08023156  0.54252987  3.95363194]\n",
      "Hyper-parameters at iteration 2 : [ 3.00376865  0.22050476  0.07581477  0.5425303   3.95390136]\n",
      "Hyper-parameters at iteration 3 : [ 3.29266188  0.23187901  0.05577883  0.54253218  3.95500721]\n",
      "Hyper-parameters at iteration 4 : [ 3.37864042  0.23391089  0.03927645  0.54253396  3.9553904 ]\n",
      "\t Outter iteration 2\n",
      "Hyper-parameters at iteration 0 : [ 3.26608993  0.22963626  0.01        0.58467438  4.82546667]\n",
      "Hyper-parameters at iteration 1 : [ 3.40283774  0.21554576  0.01        0.58467416  4.82614582]\n",
      "Hyper-parameters at iteration 2 : [ 3.39782103  0.21907039  0.01        0.58467434  4.82612102]\n",
      "Hyper-parameters at iteration 3 : [ 3.42691449  0.22159353  0.01        0.58467461  4.82626602]\n",
      "Hyper-parameters at iteration 4 : [ 3.57151394  0.22806703  0.01        0.58467565  4.82698773]\n",
      "\t Outter iteration 3\n",
      "Hyper-parameters at iteration 0 : [ 3.74946339  0.23220783  0.01        0.59958311  5.45990981]\n",
      "Hyper-parameters at iteration 1 : [ 3.80378752  0.22387027  0.01        0.59958305  5.46018506]\n",
      "Hyper-parameters at iteration 2 : [ 3.85137949  0.22401426  0.01        0.59958357  5.46042483]\n",
      "\t Outter iteration 4\n",
      "Hyper-parameters at iteration 0 : [ 4.16014304  0.22977199  0.01        0.62362312  5.90667686]\n",
      "Hyper-parameters at iteration 1 : [ 4.161944    0.22930098  0.01        0.62362312  5.90668929]\n",
      "Hyper-parameters at iteration 2 : [ 4.17531648  0.22650935  0.01        0.62362312  5.90678158]\n",
      "Hyper-parameters at iteration 3 : [ 4.19056062  0.22629094  0.01        0.62362332  5.90688678]\n",
      "\t Outter iteration 5\n",
      "Hyper-parameters at iteration 0 : [ 4.34824611  0.22713994  0.01        0.63890608  6.22203376]\n",
      "Hyper-parameters at iteration 1 : [ 4.34849959  0.22705653  0.01        0.63890608  6.22203532]\n",
      "Hyper-parameters at iteration 2 : [ 4.35168785  0.22656774  0.01        0.63890607  6.22205486]\n",
      "Hyper-parameters at iteration 3 : [ 4.35777048  0.22617225  0.01        0.63890606  6.22209214]\n",
      "Hyper-parameters at iteration 4 : [ 4.37922378  0.22557398  0.01        0.63890603  6.2222237 ]\n",
      "\t Outter iteration 6\n",
      "Hyper-parameters at iteration 0 : [ 4.42968786  0.2252531   0.01        0.64742658  6.4365934 ]\n",
      "Hyper-parameters at iteration 1 : [ 4.42985175  0.22648244  0.01        0.64742657  6.43659411]\n",
      "\t Outter iteration 7\n",
      "Hyper-parameters at iteration 0 : [ 4.43372757  0.22655136  0.01        0.64264107  6.60119142]\n",
      "Hyper-parameters at iteration 1 : [ 4.43410446  0.22644461  0.01        0.64264107  6.60119222]\n",
      "Hyper-parameters at iteration 2 : [ 4.43875542  0.22583114  0.01        0.64264107  6.60120202]\n",
      "Hyper-parameters at iteration 3 : [ 4.44754576  0.22534947  0.01        0.64264108  6.60122049]\n",
      "Hyper-parameters at iteration 4 : [ 4.47836457  0.22466756  0.01        0.64264115  6.60128523]\n",
      "\t Outter iteration 8\n",
      "Hyper-parameters at iteration 0 : [ 4.5493383   0.22445972  0.01        0.65422785  6.70447262]\n",
      "Hyper-parameters at iteration 1 : [ 4.54947681  0.22674979  0.01        0.65422785  6.704473  ]\n",
      "\t Outter iteration 9\n",
      "Hyper-parameters at iteration 0 : [ 4.55317342  0.22683997  0.01        0.64634546  6.82410179]\n",
      "Hyper-parameters at iteration 1 : [ 4.55341422  0.22726537  0.01        0.64634546  6.82410213]\n",
      "\t Outter iteration 10\n",
      "Hyper-parameters at iteration 0 : [ 4.55861455  0.22734982  0.01        0.64496825  6.88858006]\n",
      "Hyper-parameters at iteration 1 : [ 5.28562177  0.23644249  0.01        0.64496842  6.88918916]\n",
      "Hyper-parameters at iteration 2 : [ 5.30648553  0.23880927  0.01        0.64496841  6.8892084 ]\n",
      "Hyper-parameters at iteration 3 : [ 5.26055647  0.23822805  0.01        0.64496836  6.88917201]\n",
      "Hyper-parameters at iteration 4 : [ 5.24153021  0.23798662  0.01        0.64496639  6.88925916]\n",
      "\t Outter iteration 11\n",
      "Hyper-parameters at iteration 0 : [ 5.23714415  0.23793077  0.01        0.64001999  7.29313547]\n",
      "Hyper-parameters at iteration 1 : [ 5.23728379  0.23781754  0.01        0.64001999  7.29313727]\n",
      "Hyper-parameters at iteration 2 : [ 5.23841052  0.23702724  0.01        0.64002004  7.29315186]\n",
      "\t Outter iteration 12\n",
      "Hyper-parameters at iteration 0 : [ 5.24181983  0.23690564  0.01        0.64442642  7.50085724]\n",
      "Hyper-parameters at iteration 1 : [ 5.24197607  0.23680394  0.01        0.64442642  7.50085823]\n",
      "Hyper-parameters at iteration 2 : [ 5.24331288  0.23610384  0.01        0.64442643  7.50086667]\n",
      "Hyper-parameters at iteration 3 : [ 5.24487249  0.23599907  0.01        0.64442649  7.50087643]\n",
      "\t Outter iteration 13\n",
      "Hyper-parameters at iteration 0 : [ 5.26150358  0.23557857  0.01        0.64906251  7.63016633]\n",
      "Hyper-parameters at iteration 1 : [ 5.26206434  0.23584297  0.01        0.64906251  7.6301688 ]\n",
      "Hyper-parameters at iteration 2 : [ 5.2714518   0.23541327  0.01        0.64906241  7.63021055]\n",
      "\t Outter iteration 14\n",
      "Hyper-parameters at iteration 0 : [ 5.31474137  0.23516739  0.01        0.65202942  7.73998399]\n",
      "Hyper-parameters at iteration 1 : [ 5.31482103  0.23571215  0.01        0.65202942  7.7399843 ]\n",
      "\t Outter iteration 15\n",
      "Hyper-parameters at iteration 0 : [ 5.316658    0.23573882  0.01        0.65013126  7.82953343]\n",
      "Hyper-parameters at iteration 1 : [ 5.31699029  0.23554505  0.01        0.65013126  7.82953418]\n",
      "\t Outter iteration 16\n",
      "Hyper-parameters at iteration 0 : [ 5.32431287  0.2355314   0.01        0.65097634  7.88357512]\n",
      "Hyper-parameters at iteration 1 : [ 5.32461956  0.2358367   0.01        0.65097634  7.88357559]\n",
      "Hyper-parameters at iteration 2 : [ 5.32469119  0.2357211   0.01        0.65097634  7.88357572]\n",
      "Hyper-parameters at iteration 3 : [ 5.32521943  0.23557821  0.01        0.65097633  7.88357661]\n",
      "Hyper-parameters at iteration 4 : [ 5.32735189  0.23534462  0.01        0.6509763   7.88358015]\n",
      "\t Outter iteration 17\n",
      "Hyper-parameters at iteration 0 : [ 5.33369394  0.23503178  0.01        0.65280817  7.91752588]\n",
      "Hyper-parameters at iteration 1 : [ 5.33378398  0.23549973  0.01        0.65280817  7.91752598]\n",
      "\t Outter iteration 18\n",
      "Hyper-parameters at iteration 0 : [ 5.33581486  0.23552892  0.01        0.65125739  7.95361359]\n",
      "Hyper-parameters at iteration 1 : [ 5.33620901  0.23579259  0.01        0.65125739  7.9536139 ]\n",
      "Hyper-parameters at iteration 2 : [ 5.33740498  0.23555089  0.01        0.65125738  7.95361494]\n",
      "Hyper-parameters at iteration 3 : [ 5.34293758  0.23526569  0.01        0.65125733  7.9536197 ]\n",
      "\t Outter iteration 19\n",
      "Hyper-parameters at iteration 0 : [ 5.3700115   0.23477239  0.01        0.65489735  7.97349133]\n",
      "Hyper-parameters at iteration 1 : [ 5.37009037  0.23563996  0.01        0.65489735  7.97349141]\n",
      "\t Outter iteration 20\n",
      "Hyper-parameters at iteration 0 : [ 5.37200531  0.23566831  0.01        0.65210364  8.00982209]\n",
      "Hyper-parameters at iteration 1 : [ 5.37212206  0.23588735  0.01        0.65210364  8.00982217]\n",
      "\t Outter iteration 21\n",
      "Hyper-parameters at iteration 0 : [ 5.37463826  0.23592294  0.01        0.65145644  8.03060873]\n",
      "Hyper-parameters at iteration 1 : [ 5.37575961  0.23628426  0.01        0.65145644  8.03060923]\n",
      "Hyper-parameters at iteration 2 : [ 5.39703917  0.2362077   0.01        0.65145637  8.03061963]\n",
      "\t Outter iteration 22\n",
      "Hyper-parameters at iteration 0 : [ 5.66255069  0.23850011  0.01        0.65390297  8.17138544]\n",
      "Hyper-parameters at iteration 1 : [ 5.66259573  0.23926391  0.01        0.65390297  8.17138576]\n",
      "\t Outter iteration 23\n",
      "Hyper-parameters at iteration 0 : [ 5.66375978  0.23928049  0.01        0.65202617  8.27132606]\n",
      "Hyper-parameters at iteration 1 : [ 5.66378831  0.23925499  0.01        0.65202617  8.27132616]\n",
      "Hyper-parameters at iteration 2 : [ 5.66403293  0.23915953  0.01        0.65202618  8.27132696]\n",
      "Hyper-parameters at iteration 3 : [ 5.66449638  0.23908082  0.01        0.65202618  8.27132846]\n",
      "Hyper-parameters at iteration 4 : [ 5.66628935  0.23892292  0.01        0.6520262   8.27133429]\n",
      "\t Outter iteration 24\n",
      "Hyper-parameters at iteration 0 : [ 5.67082581  0.2387235   0.01        0.65404087  8.3242791 ]\n",
      "Hyper-parameters at iteration 1 : [ 5.67088955  0.23902064  0.01        0.65404087  8.32427925]\n",
      "\t Outter iteration 25\n",
      "Hyper-parameters at iteration 0 : [ 5.6723126   0.23903998  0.01        0.65304035  8.37150368]\n",
      "Hyper-parameters at iteration 1 : [ 5.67687806  0.23855961  0.01        0.65304035  8.37151062]\n",
      "Hyper-parameters at iteration 2 : [ 5.77787222  0.23977459  0.01        0.65304048  8.37166326]\n",
      "\t Outter iteration 26\n",
      "Hyper-parameters at iteration 0 : [ 6.03742536  0.24396174  0.01        0.65036545  8.58425331]\n",
      "Hyper-parameters at iteration 1 : [ 6.03744578  0.24392425  0.01        0.65036545  8.58425357]\n",
      "Hyper-parameters at iteration 2 : [ 6.03763611  0.24364129  0.01        0.65036546  8.58425601]\n",
      "\t Outter iteration 27\n",
      "Hyper-parameters at iteration 0 : [ 6.03844366  0.24358481  0.01        0.65235233  8.69652245]\n",
      "Hyper-parameters at iteration 1 : [ 6.03847073  0.2435449   0.01        0.65235233  8.69652263]\n",
      "Hyper-parameters at iteration 2 : [ 6.03872515  0.24324537  0.01        0.65235234  8.69652431]\n",
      "\t Outter iteration 28\n",
      "Hyper-parameters at iteration 0 : [ 6.0399097   0.24314454  0.01        0.65378043  8.77035705]\n",
      "Hyper-parameters at iteration 1 : [ 6.03992694  0.24312055  0.01        0.65378043  8.77035712]\n",
      "Hyper-parameters at iteration 2 : [ 6.04011469  0.24294129  0.01        0.65378043  8.77035794]\n",
      "Hyper-parameters at iteration 3 : [ 6.04049135  0.24288382  0.01        0.65378044  8.77035953]\n",
      "\t Outter iteration 29\n",
      "Hyper-parameters at iteration 0 : [ 6.04240679  0.24276404  0.01        0.65492306  8.82201944]\n",
      "Hyper-parameters at iteration 1 : [ 6.04268609  0.2426492   0.01        0.65492306  8.8220203 ]\n",
      "\t Outter iteration 30\n",
      "Hyper-parameters at iteration 0 : [ 6.06500055  0.24321981  0.01        0.65417777  8.87682074]\n",
      "Hyper-parameters at iteration 1 : [ 6.06502289  0.24319052  0.01        0.65417777  8.8768208 ]\n",
      "Hyper-parameters at iteration 2 : [ 6.06525432  0.24297168  0.01        0.65417777  8.87682137]\n",
      "Hyper-parameters at iteration 3 : [ 6.06565072  0.24291877  0.01        0.65417779  8.87682227]\n",
      "\t Outter iteration 31\n",
      "Hyper-parameters at iteration 0 : [ 6.0683741   0.24276556  0.01        0.65568006  8.90574221]\n",
      "Hyper-parameters at iteration 1 : [ 6.0684487   0.24287707  0.01        0.65568006  8.90574235]\n",
      "Hyper-parameters at iteration 2 : [ 6.06849751  0.24285773  0.01        0.65568006  8.90574246]\n",
      "Hyper-parameters at iteration 3 : [ 6.06929227  0.24273627  0.01        0.65568004  8.90574408]\n",
      "Hyper-parameters at iteration 4 : [ 6.07121007  0.24261125  0.01        0.65568001  8.905748  ]\n",
      "\t Outter iteration 32\n",
      "Hyper-parameters at iteration 0 : [ 6.0775819   0.2424221   0.01        0.65696313  8.92849817]\n",
      "Hyper-parameters at iteration 1 : [ 6.07762153  0.24272813  0.01        0.65696313  8.92849823]\n",
      "\t Outter iteration 33\n",
      "Hyper-parameters at iteration 0 : [ 6.0785356   0.24273984  0.01        0.65595533  8.95431759]\n",
      "Hyper-parameters at iteration 1 : [ 6.07866979  0.24283983  0.01        0.65595533  8.95431774]\n",
      "Hyper-parameters at iteration 2 : [ 6.08114831  0.24273777  0.01        0.65595531  8.95432065]\n",
      "\t Outter iteration 34\n",
      "Hyper-parameters at iteration 0 : [ 6.10968488  0.24245103  0.01        0.65784261  8.97417764]\n",
      "Hyper-parameters at iteration 1 : [ 6.10972065  0.24291138  0.01        0.65784261  8.9741777 ]\n",
      "\t Outter iteration 35\n",
      "Hyper-parameters at iteration 0 : [ 6.11059448  0.24292263  0.01        0.65641736  9.00056451]\n",
      "Hyper-parameters at iteration 1 : [ 6.11066938  0.24306395  0.01        0.65641736  9.00056459]\n",
      "Hyper-parameters at iteration 2 : [ 6.11070334  0.24302481  0.01        0.65641736  9.00056464]\n",
      "Hyper-parameters at iteration 3 : [ 6.11089116  0.24296817  0.01        0.65641736  9.00056487]\n",
      "Hyper-parameters at iteration 4 : [ 6.1115691   0.24287868  0.01        0.65641734  9.00056572]\n",
      "\t Outter iteration 36\n",
      "Hyper-parameters at iteration 0 : [ 6.11359155  0.24274914  0.01        0.6570685   9.01232568]\n",
      "Hyper-parameters at iteration 1 : [ 6.11363302  0.24297064  0.01        0.6570685   9.01232571]\n",
      "\t Outter iteration 37\n",
      "Hyper-parameters at iteration 0 : [ 6.11456278  0.24298246  0.01        0.65637663  9.02646561]\n",
      "Hyper-parameters at iteration 1 : [ 6.11465192  0.24308167  0.01        0.65637663  9.02646566]\n",
      "Hyper-parameters at iteration 2 : [ 6.11499392  0.24302595  0.01        0.65637663  9.0264659 ]\n",
      "Hyper-parameters at iteration 3 : [ 6.11825183  0.24283542  0.01        0.65637658  9.02646814]\n",
      "\t Outter iteration 38\n",
      "Hyper-parameters at iteration 0 : [ 6.12773123  0.24262335  0.01        0.65791676  9.0323548 ]\n",
      "Hyper-parameters at iteration 1 : [ 6.12776856  0.24301885  0.01        0.65791676  9.03235482]\n",
      "\t Outter iteration 39\n",
      "Hyper-parameters at iteration 0 : [ 6.12865757  0.24303021  0.01        0.65667924  9.04775961]\n",
      "Hyper-parameters at iteration 1 : [ 6.12873566  0.24319323  0.01        0.65667924  9.04775965]\n",
      "Hyper-parameters at iteration 2 : [ 6.12876172  0.24313818  0.01        0.65667924  9.04775968]\n",
      "Hyper-parameters at iteration 3 : [ 6.12887192  0.24309918  0.01        0.65667924  9.04775976]\n",
      "Hyper-parameters at iteration 4 : [ 6.12943902  0.243011    0.01        0.65667922  9.04776019]\n",
      "\t Outter iteration 40\n",
      "Hyper-parameters at iteration 0 : [ 6.13098148  0.24289606  0.01        0.65719047  9.05292033]\n",
      "Hyper-parameters at iteration 1 : [ 6.13102305  0.24310502  0.01        0.65719047  9.05292035]\n",
      "\t Outter iteration 41\n",
      "Hyper-parameters at iteration 0 : [ 6.13195133  0.24311678  0.01        0.65654538  9.06175066]\n",
      "Hyper-parameters at iteration 1 : [ 6.13203323  0.24321779  0.01        0.65654538  9.06175069]\n",
      "Hyper-parameters at iteration 2 : [ 6.13233597  0.24315313  0.01        0.65654537  9.06175082]\n",
      "Hyper-parameters at iteration 3 : [ 6.13430018  0.24301218  0.01        0.65654535  9.06175169]\n",
      "\t Outter iteration 42\n",
      "Hyper-parameters at iteration 0 : [ 6.1413469   0.24280241  0.01        0.65782933  9.06354435]\n",
      "Hyper-parameters at iteration 1 : [ 6.14138477  0.24314753  0.01        0.65782933  9.06354436]\n",
      "\t Outter iteration 43\n",
      "Hyper-parameters at iteration 0 : [ 6.14227156  0.24315881  0.01        0.65675116  9.07457663]\n",
      "Hyper-parameters at iteration 1 : [ 6.1423456   0.24330246  0.01        0.65675116  9.07457666]\n",
      "Hyper-parameters at iteration 2 : [ 6.14237783  0.24326136  0.01        0.65675116  9.07457668]\n",
      "Hyper-parameters at iteration 3 : [ 6.14254414  0.24320913  0.01        0.65675116  9.07457677]\n",
      "Hyper-parameters at iteration 4 : [ 6.1431787   0.24312176  0.01        0.65675114  9.07457712]\n",
      "\t Outter iteration 44\n",
      "Hyper-parameters at iteration 0 : [ 6.14504216  0.24299728  0.01        0.65735878  9.07688075]\n",
      "Hyper-parameters at iteration 1 : [ 6.14508264  0.24322151  0.01        0.65735878  9.07688076]\n",
      "\t Outter iteration 45\n",
      "Hyper-parameters at iteration 0 : [ 6.14599195  0.24323301  0.01        0.65666439  9.08427683]\n",
      "Hyper-parameters at iteration 1 : [ 6.14606809  0.24333679  0.01        0.65666439  9.08427685]\n",
      "Hyper-parameters at iteration 2 : [ 6.14633742  0.24326127  0.01        0.65666439  9.08427695]\n",
      "Hyper-parameters at iteration 3 : [ 6.14749722  0.24316614  0.01        0.65666437  9.08427739]\n",
      "\t Outter iteration 46\n",
      "Hyper-parameters at iteration 0 : [ 6.15341533  0.24295336  0.01        0.65777816  9.08483863]\n",
      "Hyper-parameters at iteration 1 : [ 6.1534533   0.24326578  0.01        0.65777816  9.08483864]\n",
      "\t Outter iteration 47\n",
      "Hyper-parameters at iteration 0 : [ 6.15433339  0.24327693  0.01        0.65680317  9.09399427]\n",
      "Hyper-parameters at iteration 1 : [ 6.15440463  0.24340668  0.01        0.65680317  9.09399429]\n",
      "Hyper-parameters at iteration 2 : [ 6.15444147  0.24337493  0.01        0.65680317  9.09399431]\n",
      "Hyper-parameters at iteration 3 : [ 6.15469563  0.2433079   0.01        0.65680316  9.09399443]\n",
      "Hyper-parameters at iteration 4 : [ 6.15549081  0.24321608  0.01        0.65680314  9.09399479]\n",
      "\t Outter iteration 48\n",
      "Hyper-parameters at iteration 0 : [ 6.15795928  0.24307767  0.01        0.65755167  9.09498084]\n",
      "Hyper-parameters at iteration 1 : [ 6.15799844  0.24332678  0.01        0.65755167  9.09498085]\n",
      "\t Outter iteration 49\n",
      "Hyper-parameters at iteration 0 : [ 6.15888672  0.24333801  0.01        0.65677726  9.10231405]\n",
      "Hyper-parameters at iteration 1 : [ 6.1589582   0.24344753  0.01        0.65677726  9.10231406]\n",
      "Hyper-parameters at iteration 2 : [ 6.15900512  0.24342861  0.01        0.65677726  9.10231408]\n",
      "Hyper-parameters at iteration 3 : [ 6.15975432  0.24331205  0.01        0.65677724  9.10231436]\n",
      "Hyper-parameters at iteration 4 : [ 6.16156698  0.24319122  0.01        0.65677721  9.10231504]\n"
     ]
    }
   ],
   "source": [
    "options = {'maxfun': 5, 'disp': False, 'mydisp': True, 'num_updates':5, 'max_out_iter':50}\n",
    "res = gp.fit(x_tr, y_tr, method='vi_jj_hybrid', method_options=options)"
   ]
  },
  {
   "cell_type": "code",
   "execution_count": 9,
   "metadata": {
    "collapsed": true
   },
   "outputs": [],
   "source": [
    "y_pred = gp.predict(x_test)"
   ]
  },
  {
   "cell_type": "code",
   "execution_count": 10,
   "metadata": {
    "collapsed": false
   },
   "outputs": [
    {
     "data": {
      "text/plain": [
       "93"
      ]
     },
     "execution_count": 10,
     "metadata": {},
     "output_type": "execute_result"
    }
   ],
   "source": [
    "np.sum(y_pred == y_te)"
   ]
  },
  {
   "cell_type": "code",
   "execution_count": 13,
   "metadata": {
    "collapsed": false
   },
   "outputs": [
    {
     "data": {
      "text/plain": [
       "<matplotlib.text.Text at 0x10d2691d0>"
      ]
     },
     "execution_count": 13,
     "metadata": {},
     "output_type": "execute_result"
    },
    {
     "data": {
      "image/png": "[encoded data removed]",
      "text/plain": [
       "<matplotlib.figure.Figure at 0x10d24f358>"
      ]
     },
     "metadata": {},
     "output_type": "display_data"
    }
   ],
   "source": [
    "metric = lambda w: gp.get_prediction_quality(w, x_test, y_te)\n",
    "x_lst, y_lst = res.plot_performance(metric, 't', freq=1)\n",
    "plt.plot(x_lst[1:], y_lst[1:], '-mx', label='vi-JJ-hybrid')\n",
    "plt.ylim([.8, 1.])\n",
    "plt.legend()\n",
    "plt.xlabel('Seconds')\n",
    "plt.ylabel('Accuracy')"
   ]
  }
 ],
 "metadata": {
  "kernelspec": {
   "display_name": "Python 3",
   "language": "python",
   "name": "python3"
  },
  "language_info": {
   "codemirror_mode": {
    "name": "ipython",
    "version": 3
   },
   "file_extension": ".py",
   "mimetype": "text/x-python",
   "name": "python",
   "nbconvert_exporter": "python",
   "pygments_lexer": "ipython3",
   "version": "3.4.3"
  }
 },
 "nbformat": 4,
 "nbformat_minor": 0
}
