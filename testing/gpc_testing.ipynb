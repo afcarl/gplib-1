{
 "cells": [
  {
   "cell_type": "code",
   "execution_count": 1,
   "metadata": {
    "collapsed": false
   },
   "outputs": [],
   "source": [
    "import sys\n",
    "sys.path.append('/Users/IzmailovPavel/Documents/Education/GPproject/gplib/')\n",
    "import numpy as np\n",
    "% load_ext autoreload\n",
    "% autoreload 2\n",
    "from matplotlib import pyplot as plt\n",
    "% matplotlib inline"
   ]
  },
  {
   "cell_type": "code",
   "execution_count": 2,
   "metadata": {
    "collapsed": false
   },
   "outputs": [],
   "source": [
    "from gplib.gpc import GPCLaplace, GPCSparse\n",
    "from gplib.covfun import SE"
   ]
  },
  {
   "cell_type": "code",
   "execution_count": 3,
   "metadata": {
    "collapsed": true
   },
   "outputs": [],
   "source": [
    "dim = 2\n",
    "num = 200\n",
    "test_num= 100\n",
    "x_tr = np.random.rand(num, dim)\n",
    "if dim == 1:\n",
    "    x_test = np.linspace(0, 1, test_num)\n",
    "    x_test = x_test.reshape(test_num, 1)\n",
    "else:\n",
    "    x_test = np.random.rand(test_num, dim)"
   ]
  },
  {
   "cell_type": "code",
   "execution_count": 4,
   "metadata": {
    "collapsed": false
   },
   "outputs": [],
   "source": [
    "data_gp = GPCLaplace(SE(np.array([1., .2, .1])))"
   ]
  },
  {
   "cell_type": "code",
   "execution_count": 5,
   "metadata": {
    "collapsed": false
   },
   "outputs": [],
   "source": [
    "y_tr, y_te = data_gp.generate_data(x_tr, x_test)"
   ]
  },
  {
   "cell_type": "code",
   "execution_count": 6,
   "metadata": {
    "collapsed": false,
    "scrolled": true
   },
   "outputs": [
    {
     "data": {
      "text/plain": [
       "[<matplotlib.lines.Line2D at 0x10c9e2a90>]"
      ]
     },
     "execution_count": 6,
     "metadata": {},
     "output_type": "execute_result"
    },
    {
     "data": {
      "image/png": "[encoded data removed]",
      "text/plain": [
       "<matplotlib.figure.Figure at 0x10c9e2ac8>"
      ]
     },
     "metadata": {},
     "output_type": "display_data"
    }
   ],
   "source": [
    "plt.plot(x_tr[y_tr[:, 0] == 1, 0], x_tr[y_tr[:, 0] == 1, 1], 'bo')\n",
    "plt.plot(x_tr[y_tr[:, 0] == -1, 0], x_tr[y_tr[:, 0] == -1, 1], 'ro')"
   ]
  },
  {
   "cell_type": "markdown",
   "metadata": {},
   "source": [
    "## Laplace"
   ]
  },
  {
   "cell_type": "code",
   "execution_count": 35,
   "metadata": {
    "collapsed": true
   },
   "outputs": [],
   "source": [
    "gp = GPCLaplace(SE(np.array([2., .5, .2])))"
   ]
  },
  {
   "cell_type": "code",
   "execution_count": 36,
   "metadata": {
    "collapsed": true
   },
   "outputs": [
    {
     "name": "stdout",
     "output_type": "stream",
     "text": [
      "Iteration  0\n",
      "Hyper-parameters at iteration  0 :  [ 1.98091039  0.40713973  0.16661261]\n"
     ]
    },
    {
     "data": {
      "text/plain": [
       "([array([ 1.98091039,  0.40713973,  0.16661261]),\n",
       "  array([ 2.26189435,  0.33835752,  0.14058381]),\n",
       "  array([ 2.98878067,  0.29762022,  0.10005031]),\n",
       "  array([ 3.59238526,  0.26205742,  0.09007999]),\n",
       "  array([ 3.96756352,  0.23162756,  0.09234737]),\n",
       "  array([ 4.17327702,  0.20402162,  0.13168827]),\n",
       "  array([ 4.07476576,  0.18794396,  0.0977584 ]),\n",
       "  array([ 3.71108877,  0.16372879,  0.11112279]),\n",
       "  array([ 3.78963506,  0.15264836,  0.09426979]),\n",
       "  array([ 3.48783175,  0.14118879,  0.12487628])],\n",
       " [0.38850903511047363,\n",
       "  0.7271380424499512,\n",
       "  1.1673741340637207,\n",
       "  1.536700963973999,\n",
       "  2.082357168197632,\n",
       "  2.5592880249023438,\n",
       "  2.8925940990448,\n",
       "  3.543760061264038,\n",
       "  3.912933111190796,\n",
       "  4.529102087020874])"
      ]
     },
     "execution_count": 36,
     "metadata": {},
     "output_type": "execute_result"
    }
   ],
   "source": [
    "gp.fit(x_tr, y_tr, max_iter=10)"
   ]
  },
  {
   "cell_type": "code",
   "execution_count": 37,
   "metadata": {
    "collapsed": false
   },
   "outputs": [],
   "source": [
    "y_pred = gp.predict(x_test, x_tr, y_tr)"
   ]
  },
  {
   "cell_type": "code",
   "execution_count": 38,
   "metadata": {
    "collapsed": false
   },
   "outputs": [
    {
     "data": {
      "text/plain": [
       "97"
      ]
     },
     "execution_count": 38,
     "metadata": {},
     "output_type": "execute_result"
    }
   ],
   "source": [
    "np.sum(y_pred == y_te)"
   ]
  },
  {
   "cell_type": "markdown",
   "metadata": {},
   "source": [
    "## Inducing Inputs\n",
    "### svi"
   ]
  },
  {
   "cell_type": "code",
   "execution_count": 7,
   "metadata": {
    "collapsed": false
   },
   "outputs": [],
   "source": [
    "gp = GPCSparse(SE(np.array([1., .7, .2])), inputs=30)"
   ]
  },
  {
   "cell_type": "code",
   "execution_count": 8,
   "metadata": {
    "collapsed": false
   },
   "outputs": [
    {
     "name": "stdout",
     "output_type": "stream",
     "text": [
      "Using AdaDelta optimizer\n",
      "Iteration  10 :\n",
      "\tGradient norm 2.22224949054\n",
      "Iteration  20 :\n",
      "\tGradient norm 2.09777766627\n",
      "Iteration  30 :\n",
      "\tGradient norm 3.35295904039\n",
      "Iteration  40 :\n",
      "\tGradient norm 3.10968555511\n",
      "Iteration  50 :\n",
      "\tGradient norm 3.41012247859\n",
      "Iteration  60 :\n",
      "\tGradient norm 2.26286852108\n",
      "Iteration  70 :\n",
      "\tGradient norm 2.77656053015\n",
      "Iteration  80 :\n",
      "\tGradient norm 2.48995893457\n",
      "Iteration  90 :\n",
      "\tGradient norm 2.87380266316\n",
      "Iteration  100 :\n",
      "\tGradient norm 2.51570278785\n"
     ]
    }
   ],
   "source": [
    "options = {'hermgauss_deg': 100, 'mode': 'adadelta', 'maxiter': 100, \n",
    "           'verbose': True, 'batch_size':20, 'step_rate': 0.5, 'decay': 0.8,\n",
    "           'print_freq': 10}\n",
    "res = gp.fit(x_tr, y_tr, method='svi', method_options=options)"
   ]
  },
  {
   "cell_type": "code",
   "execution_count": 9,
   "metadata": {
    "collapsed": true
   },
   "outputs": [],
   "source": [
    "y_pred = gp.predict(x_test)"
   ]
  },
  {
   "cell_type": "code",
   "execution_count": 10,
   "metadata": {
    "collapsed": false
   },
   "outputs": [
    {
     "data": {
      "text/plain": [
       "94"
      ]
     },
     "execution_count": 10,
     "metadata": {},
     "output_type": "execute_result"
    }
   ],
   "source": [
    "np.sum(y_pred == y_te)"
   ]
  },
  {
   "cell_type": "code",
   "execution_count": 12,
   "metadata": {
    "collapsed": false
   },
   "outputs": [
    {
     "data": {
      "text/plain": [
       "<matplotlib.text.Text at 0x10d34b3c8>"
      ]
     },
     "execution_count": 12,
     "metadata": {},
     "output_type": "execute_result"
    },
    {
     "data": {
      "image/png": "[encoded data removed]",
      "text/plain": [
       "<matplotlib.figure.Figure at 0x10ca11668>"
      ]
     },
     "metadata": {},
     "output_type": "display_data"
    }
   ],
   "source": [
    "metric = lambda w: gp.get_prediction_quality(w, x_test, y_te)\n",
    "x_lst, y_lst = res.plot_performance(metric, 't', freq=1)\n",
    "plt.plot(x_lst[1:], y_lst[1:], '-rx', label='svi-AdaDelta')\n",
    "plt.ylim([.8, 1.])\n",
    "plt.legend()\n",
    "plt.xlabel('Seconds')\n",
    "plt.ylabel('Accuracy')"
   ]
  },
  {
   "cell_type": "markdown",
   "metadata": {},
   "source": [
    "### vi_jj"
   ]
  },
  {
   "cell_type": "code",
   "execution_count": 13,
   "metadata": {
    "collapsed": false
   },
   "outputs": [],
   "source": [
    "gp = GPCSparse(SE(np.array([1., .7, .2])), inputs=30)"
   ]
  },
  {
   "cell_type": "code",
   "execution_count": 14,
   "metadata": {
    "collapsed": false
   },
   "outputs": [
    {
     "name": "stdout",
     "output_type": "stream",
     "text": [
      "Hyper-parameters at iteration 0 : [ 1.   0.7  0.2]\n",
      "Hyper-parameters at iteration 1 : [ 5.67347996  0.57886797  0.1666448 ]\n",
      "Hyper-parameters at iteration 2 : [ 5.39391194  0.45777958  0.10582451]\n",
      "Hyper-parameters at iteration 3 : [ 5.01506708  0.41447177  0.01      ]\n",
      "\tHyper-parameters at outter iteration 0 : [ 4.80456826  0.44115249  0.01      ]\n",
      "Hyper-parameters at iteration 0 : [ 4.80456826  0.44115249  0.01      ]\n",
      "Hyper-parameters at iteration 1 : [ 4.80147208  0.39740808  0.01      ]\n",
      "Hyper-parameters at iteration 2 : [ 4.7999828   0.39893089  0.01      ]\n",
      "\tHyper-parameters at outter iteration 1 : [ 4.79583633  0.39996448  0.01      ]\n",
      "Hyper-parameters at iteration 0 : [ 4.79583633  0.39996448  0.01      ]\n",
      "Hyper-parameters at iteration 1 : [ 4.80618721  0.37252763  0.01      ]\n",
      "Hyper-parameters at iteration 2 : [ 4.80314656  0.37945217  0.01      ]\n",
      "\tHyper-parameters at outter iteration 2 : [ 4.80287865  0.3791082   0.01      ]\n",
      "Hyper-parameters at iteration 0 : [ 4.80287865  0.3791082   0.01      ]\n",
      "Hyper-parameters at iteration 1 : [ 4.81597227  0.35933041  0.01      ]\n",
      "Hyper-parameters at iteration 2 : [ 4.81046534  0.36774127  0.01      ]\n",
      "\tHyper-parameters at outter iteration 3 : [ 4.81063901  0.36755366  0.01      ]\n",
      "Hyper-parameters at iteration 0 : [ 4.81063901  0.36755366  0.01      ]\n",
      "Hyper-parameters at iteration 1 : [ 4.81705565  0.36041548  0.01      ]\n",
      "\tHyper-parameters at outter iteration 4 : [ 4.81751749  0.36040705  0.01      ]\n",
      "Hyper-parameters at iteration 0 : [ 4.81751749  0.36040705  0.01      ]\n",
      "Hyper-parameters at iteration 1 : [ 4.82255445  0.3557167   0.01      ]\n",
      "\tHyper-parameters at outter iteration 5 : [ 4.82335059  0.35572324  0.01      ]\n",
      "Hyper-parameters at iteration 0 : [ 4.82335059  0.35572324  0.01      ]\n",
      "Hyper-parameters at iteration 1 : [ 4.82715656  0.35254093  0.01      ]\n",
      "\tHyper-parameters at outter iteration 6 : [ 4.82821928  0.35255946  0.01      ]\n",
      "Hyper-parameters at iteration 0 : [ 4.82821928  0.35255946  0.01      ]\n",
      "Hyper-parameters at iteration 1 : [ 4.83102679  0.35036413  0.01      ]\n",
      "\tHyper-parameters at outter iteration 7 : [ 4.83228922  0.35039132  0.01      ]\n",
      "Hyper-parameters at iteration 0 : [ 4.83228922  0.35039132  0.01      ]\n",
      "Hyper-parameters at iteration 1 : [ 4.83432732  0.34886394  0.01      ]\n",
      "\tHyper-parameters at outter iteration 8 : [ 4.83573298  0.34889719  0.01      ]\n",
      "Hyper-parameters at iteration 0 : [ 4.83573298  0.34889719  0.01      ]\n",
      "Hyper-parameters at iteration 1 : [ 4.83749667  0.34775867  0.01      ]\n",
      "\tHyper-parameters at outter iteration 9 : [ 4.87484266  0.34844536  0.01      ]\n",
      "Hyper-parameters at iteration 0 : [ 4.87484266  0.34844536  0.01      ]\n",
      "Hyper-parameters at iteration 1 : [ 4.87732308  0.34989824  0.01      ]\n",
      "Hyper-parameters at iteration 2 : [ 4.9224491   0.34883354  0.01      ]\n",
      "\tHyper-parameters at outter iteration 10 : [ 5.17903983  0.35169163  0.01      ]\n",
      "Hyper-parameters at iteration 0 : [ 5.17903983  0.35169163  0.01      ]\n",
      "Hyper-parameters at iteration 1 : [ 5.17930205  0.35529758  0.01      ]\n",
      "\tHyper-parameters at outter iteration 11 : [ 5.18665761  0.3555937   0.01      ]\n",
      "Hyper-parameters at iteration 0 : [ 5.18665761  0.3555937   0.01      ]\n",
      "Hyper-parameters at iteration 1 : [ 5.18751977  0.35766981  0.01      ]\n",
      "Hyper-parameters at iteration 2 : [ 5.18761327  0.35672397  0.01      ]\n",
      "Hyper-parameters at iteration 3 : [ 5.18823581  0.35652481  0.01      ]\n",
      "Hyper-parameters at iteration 4 : [ 5.19532122  0.35556844  0.01      ]\n",
      "\tHyper-parameters at outter iteration 12 : [ 5.21151762  0.35469715  0.01      ]\n",
      "Hyper-parameters at iteration 0 : [ 5.21151762  0.35469715  0.01      ]\n",
      "Hyper-parameters at iteration 1 : [ 5.2119101   0.35668153  0.01      ]\n",
      "\tHyper-parameters at outter iteration 13 : [ 5.22115388  0.3569045   0.01      ]\n",
      "Hyper-parameters at iteration 0 : [ 5.22115388  0.3569045   0.01      ]\n",
      "Hyper-parameters at iteration 1 : [ 5.22217385  0.35823769  0.01      ]\n",
      "Hyper-parameters at iteration 2 : [ 5.22260525  0.35785631  0.01      ]\n",
      "Hyper-parameters at iteration 3 : [ 5.22583898  0.35709667  0.01      ]\n",
      "Hyper-parameters at iteration 4 : [ 5.23605711  0.35615911  0.01      ]\n",
      "\tHyper-parameters at outter iteration 14 : [ 5.26685592  0.35507395  0.01      ]\n",
      "Hyper-parameters at iteration 0 : [ 5.26685592  0.35507395  0.01      ]\n",
      "Hyper-parameters at iteration 1 : [ 5.26722925  0.35759016  0.01      ]\n",
      "\tHyper-parameters at outter iteration 15 : [ 5.27633223  0.35781444  0.01      ]\n",
      "Hyper-parameters at iteration 0 : [ 5.27633223  0.35781444  0.01      ]\n",
      "Hyper-parameters at iteration 1 : [ 5.27730515  0.35950091  0.01      ]\n",
      "Hyper-parameters at iteration 2 : [ 5.27752776  0.35884447  0.01      ]\n",
      "Hyper-parameters at iteration 3 : [ 5.27865207  0.35846108  0.01      ]\n",
      "Hyper-parameters at iteration 4 : [ 5.28505352  0.3575674   0.01      ]\n",
      "\tHyper-parameters at outter iteration 16 : [ 5.30186177  0.35659081  0.01      ]\n",
      "Hyper-parameters at iteration 0 : [ 5.30186177  0.35659081  0.01      ]\n",
      "Hyper-parameters at iteration 1 : [ 5.30226545  0.35864499  0.01      ]\n",
      "\tHyper-parameters at outter iteration 17 : [ 5.3117671   0.35887194  0.01      ]\n",
      "Hyper-parameters at iteration 0 : [ 5.3117671   0.35887194  0.01      ]\n",
      "Hyper-parameters at iteration 1 : [ 5.31275727  0.36034696  0.01      ]\n",
      "Hyper-parameters at iteration 2 : [ 5.31308504  0.35985272  0.01      ]\n",
      "Hyper-parameters at iteration 3 : [ 5.31493887  0.3593007   0.01      ]\n",
      "Hyper-parameters at iteration 4 : [ 5.32239139  0.35840935  0.01      ]\n",
      "\tHyper-parameters at outter iteration 18 : [ 5.3436849  0.3573606  0.01     ]\n",
      "Hyper-parameters at iteration 0 : [ 5.3436849  0.3573606  0.01     ]\n",
      "Hyper-parameters at iteration 1 : [ 5.34407324  0.35959048  0.01      ]\n",
      "\tHyper-parameters at outter iteration 19 : [ 5.35333608  0.35981206  0.01      ]\n"
     ]
    }
   ],
   "source": [
    "options = {'maxfun': 5, 'disp': False, 'mydisp': True, 'num_updates':5}\n",
    "res = gp.fit(x_tr, y_tr, method='vi_jj', method_options=options)"
   ]
  },
  {
   "cell_type": "code",
   "execution_count": 15,
   "metadata": {
    "collapsed": false
   },
   "outputs": [],
   "source": [
    "y_pred = gp.predict(x_test)"
   ]
  },
  {
   "cell_type": "code",
   "execution_count": 16,
   "metadata": {
    "collapsed": false
   },
   "outputs": [
    {
     "data": {
      "text/plain": [
       "93"
      ]
     },
     "execution_count": 16,
     "metadata": {},
     "output_type": "execute_result"
    }
   ],
   "source": [
    "np.sum(y_pred == y_te)"
   ]
  },
  {
   "cell_type": "code",
   "execution_count": 17,
   "metadata": {
    "collapsed": false
   },
   "outputs": [
    {
     "data": {
      "text/plain": [
       "<matplotlib.text.Text at 0x10d181080>"
      ]
     },
     "execution_count": 17,
     "metadata": {},
     "output_type": "execute_result"
    },
    {
     "data": {
      "image/png": "[encoded data removed]",
      "text/plain": [
       "<matplotlib.figure.Figure at 0x10d347128>"
      ]
     },
     "metadata": {},
     "output_type": "display_data"
    }
   ],
   "source": [
    "metric = lambda w: gp.get_prediction_quality(w, x_test, y_te)\n",
    "x_lst, y_lst = res.plot_performance(metric, 't', freq=1)\n",
    "plt.plot(x_lst[1:], y_lst[1:], '-bx', label='vi-JJ')\n",
    "plt.ylim([.8, 1.])\n",
    "plt.legend()\n",
    "plt.xlabel('Seconds')\n",
    "plt.ylabel('Accuracy')"
   ]
  },
  {
   "cell_type": "code",
   "execution_count": null,
   "metadata": {
    "collapsed": true
   },
   "outputs": [],
   "source": []
  },
  {
   "cell_type": "code",
   "execution_count": null,
   "metadata": {
    "collapsed": true
   },
   "outputs": [],
   "source": []
  }
 ],
 "metadata": {
  "kernelspec": {
   "display_name": "Python 3",
   "language": "python",
   "name": "python3"
  },
  "language_info": {
   "codemirror_mode": {
    "name": "ipython",
    "version": 3
   },
   "file_extension": ".py",
   "mimetype": "text/x-python",
   "name": "python",
   "nbconvert_exporter": "python",
   "pygments_lexer": "ipython3",
   "version": "3.4.3"
  }
 },
 "nbformat": 4,
 "nbformat_minor": 0
}
