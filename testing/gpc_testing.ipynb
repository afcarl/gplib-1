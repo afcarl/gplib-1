{
 "cells": [
  {
   "cell_type": "code",
   "execution_count": 1,
   "metadata": {
    "collapsed": false
   },
   "outputs": [],
   "source": [
    "import sys\n",
    "sys.path.append('/Users/IzmailovPavel/Documents/Education/GPproject/gplib/')\n",
    "import numpy as np\n",
    "% load_ext autoreload\n",
    "% autoreload 2\n",
    "from matplotlib import pyplot as plt\n",
    "% matplotlib inline"
   ]
  },
  {
   "cell_type": "code",
   "execution_count": 2,
   "metadata": {
    "collapsed": false
   },
   "outputs": [],
   "source": [
    "from gplib.gpc import GPCLaplace, GPCSparse\n",
    "from gplib.optim.methods import *\n",
    "from gplib.covfun import SE"
   ]
  },
  {
   "cell_type": "code",
   "execution_count": 3,
   "metadata": {
    "collapsed": false
   },
   "outputs": [],
   "source": [
    "dim = 2\n",
    "num = 200\n",
    "test_num= 100\n",
    "x_tr = np.random.rand(num, dim)\n",
    "if dim == 1:\n",
    "    x_te = np.linspace(0, 1, test_num)\n",
    "    x_te = x_test.reshape(test_num, 1)\n",
    "else:\n",
    "    x_te = np.random.rand(test_num, dim)"
   ]
  },
  {
   "cell_type": "code",
   "execution_count": 4,
   "metadata": {
    "collapsed": false
   },
   "outputs": [],
   "source": [
    "data_gp = GPCLaplace(SE(np.array([1., .2, .1])))"
   ]
  },
  {
   "cell_type": "code",
   "execution_count": 5,
   "metadata": {
    "collapsed": false
   },
   "outputs": [],
   "source": [
    "y_tr, y_te = data_gp.generate_data(x_tr, x_te, seed=21)"
   ]
  },
  {
   "cell_type": "code",
   "execution_count": 6,
   "metadata": {
    "collapsed": false,
    "scrolled": true
   },
   "outputs": [
    {
     "data": {
      "text/plain": [
       "[<matplotlib.lines.Line2D at 0x10cb5d438>]"
      ]
     },
     "execution_count": 6,
     "metadata": {},
     "output_type": "execute_result"
    },
    {
     "data": {
      "image/png": "[encoded data removed]",
      "text/plain": [
       "<matplotlib.figure.Figure at 0x10cb5d470>"
      ]
     },
     "metadata": {},
     "output_type": "display_data"
    }
   ],
   "source": [
    "plt.plot(x_tr[y_tr[:, 0] == 1, 0], x_tr[y_tr[:, 0] == 1, 1], 'bo')\n",
    "plt.plot(x_tr[y_tr[:, 0] == -1, 0], x_tr[y_tr[:, 0] == -1, 1], 'ro')"
   ]
  },
  {
   "cell_type": "markdown",
   "metadata": {},
   "source": [
    "## Laplace"
   ]
  },
  {
   "cell_type": "code",
   "execution_count": 15,
   "metadata": {
    "collapsed": false
   },
   "outputs": [],
   "source": [
    "gp = GPCLaplace(SE(np.array([2., .5, .2])))"
   ]
  },
  {
   "cell_type": "code",
   "execution_count": 16,
   "metadata": {
    "collapsed": false
   },
   "outputs": [
    {
     "name": "stdout",
     "output_type": "stream",
     "text": [
      "Iteration  0\n",
      "Hyper-parameters at iteration  0 :  [ 2.68799916  0.44610799  0.15608633]\n"
     ]
    },
    {
     "data": {
      "text/plain": [
       "([array([ 2.68799916,  0.44610799,  0.15608633]),\n",
       "  array([ 3.08273837,  0.3892484 ,  0.13196569]),\n",
       "  array([ 3.37572318,  0.33181688,  0.12111267]),\n",
       "  array([ 3.22468905,  0.27167277,  0.14829619]),\n",
       "  array([ 3.56563711,  0.23806956,  0.11368648]),\n",
       "  array([ 3.72722161,  0.21077022,  0.09807497]),\n",
       "  array([ 3.60190555,  0.18600184,  0.09383495]),\n",
       "  array([ 3.5294776 ,  0.16776758,  0.09146584]),\n",
       "  array([ 3.30315798,  0.15115759,  0.11646089]),\n",
       "  array([ 3.43551123,  0.14541593,  0.10014437])],\n",
       " [0.30989694595336914,\n",
       "  0.6918628215789795,\n",
       "  1.1473619937896729,\n",
       "  1.894948959350586,\n",
       "  2.3856258392333984,\n",
       "  2.8365769386291504,\n",
       "  3.292442798614502,\n",
       "  3.643946886062622,\n",
       "  4.160959959030151,\n",
       "  4.538885831832886])"
      ]
     },
     "execution_count": 16,
     "metadata": {},
     "output_type": "execute_result"
    }
   ],
   "source": [
    "gp.fit(x_tr, y_tr, max_iter=10)"
   ]
  },
  {
   "cell_type": "code",
   "execution_count": 17,
   "metadata": {
    "collapsed": false
   },
   "outputs": [],
   "source": [
    "y_pred = gp.predict(x_te, x_tr, y_tr)"
   ]
  },
  {
   "cell_type": "code",
   "execution_count": 18,
   "metadata": {
    "collapsed": false
   },
   "outputs": [
    {
     "data": {
      "text/plain": [
       "0.92000000000000004"
      ]
     },
     "execution_count": 18,
     "metadata": {},
     "output_type": "execute_result"
    }
   ],
   "source": [
    "gp.get_quality(y_te, y_pred)"
   ]
  },
  {
   "cell_type": "markdown",
   "metadata": {},
   "source": [
    "## Inducing Inputs\n",
    "### svi"
   ]
  },
  {
   "cell_type": "code",
   "execution_count": 77,
   "metadata": {
    "collapsed": false
   },
   "outputs": [],
   "source": [
    "gp = GPCSparse(SE(np.array([1., .7, .2])), inputs=30)"
   ]
  },
  {
   "cell_type": "code",
   "execution_count": 79,
   "metadata": {
    "collapsed": false
   },
   "outputs": [
    {
     "name": "stdout",
     "output_type": "stream",
     "text": [
      "Epoch 10 :\n",
      "\tx [ 0.92954444  0.20106221  0.21223753 -0.02837061  0.02001747]\n",
      "\tGradient norm 2.23403590059\n",
      "Epoch 20 :\n",
      "\tx [ 1.20117337  0.19825671  0.02074532  0.06584122 -0.04430601]\n",
      "\tGradient norm 7.24459414603\n",
      "Epoch 30 :\n",
      "\tx [  1.54587796e+00   2.09295410e-01  -6.21837961e-04   1.43056395e-01\n",
      "  -7.22060287e-02]\n",
      "\tGradient norm 4.6457564525\n",
      "Epoch 40 :\n",
      "\tx [  1.88165908e+00   2.15419303e-01   1.04576715e-05   2.18294992e-01\n",
      "  -9.89057820e-02]\n",
      "\tGradient norm 5.64468978776\n",
      "Epoch 50 :\n",
      "\tx [  2.20489843e+00   2.30472859e-01   9.32763567e-04   2.98334298e-01\n",
      "  -1.15710756e-01]\n",
      "\tGradient norm 4.32500929518\n"
     ]
    }
   ],
   "source": [
    "options = {'optimizer': 'AdaDelta'}\n",
    "batch_size = 20\n",
    "options = {'optimizer': AdaDelta(disp=10, iter_per_epoch=y_tr.size/batch_size, n_epoch=50, step_rate=.7)}\n",
    "res = gp.fit(x_tr, y_tr, method='svi', options=options)"
   ]
  },
  {
   "cell_type": "code",
   "execution_count": 80,
   "metadata": {
    "collapsed": false
   },
   "outputs": [],
   "source": [
    "y_pred = gp.predict(x_te)"
   ]
  },
  {
   "cell_type": "code",
   "execution_count": 81,
   "metadata": {
    "collapsed": false
   },
   "outputs": [
    {
     "data": {
      "text/plain": [
       "0.93999999999999995"
      ]
     },
     "execution_count": 81,
     "metadata": {},
     "output_type": "execute_result"
    }
   ],
   "source": [
    "gp.get_quality(y_te, y_pred)"
   ]
  },
  {
   "cell_type": "code",
   "execution_count": 82,
   "metadata": {
    "collapsed": false
   },
   "outputs": [
    {
     "data": {
      "text/plain": [
       "<matplotlib.text.Text at 0x10d61ae48>"
      ]
     },
     "execution_count": 82,
     "metadata": {},
     "output_type": "execute_result"
    },
    {
     "data": {
      "image/png": "[encoded data removed]",
      "text/plain": [
       "<matplotlib.figure.Figure at 0x10d5c1a20>"
      ]
     },
     "metadata": {},
     "output_type": "display_data"
    }
   ],
   "source": [
    "metric = lambda w: gp.get_prediction_quality(x_te, y_te, w)\n",
    "x_lst, y_lst = res.plot_performance(metric, 't', freq=1)\n",
    "plt.plot(x_lst[1:], y_lst[1:], '-rx', label='svi-AdaDelta')\n",
    "plt.ylim([.8, 1.])\n",
    "plt.legend()\n",
    "plt.xlabel('Seconds')\n",
    "plt.ylabel('Accuracy')"
   ]
  },
  {
   "cell_type": "markdown",
   "metadata": {},
   "source": [
    "### vi-JJ"
   ]
  },
  {
   "cell_type": "code",
   "execution_count": 83,
   "metadata": {
    "collapsed": false
   },
   "outputs": [],
   "source": [
    "gp = GPCSparse(SE(np.array([1., .5, .2])), inputs=30)"
   ]
  },
  {
   "cell_type": "code",
   "execution_count": 84,
   "metadata": {
    "collapsed": false,
    "scrolled": true
   },
   "outputs": [
    {
     "name": "stdout",
     "output_type": "stream",
     "text": [
      "Outter iteration 0 :\n",
      "\tparameters: [ 1.29692175 -0.20763821  0.0036312 ]\n",
      "Outter iteration 5 :\n",
      "\tparameters: [  2.23757706e+00  -2.14958786e-01  -6.72924725e-06]\n",
      "Outter iteration 10 :\n",
      "\tparameters: [  2.62473472e+00  -2.11539238e-01   1.89681162e-08]\n",
      "Outter iteration 15 :\n",
      "\tparameters: [  3.01781465e+00  -2.23638543e-01  -1.96340451e-11]\n"
     ]
    }
   ],
   "source": [
    "options = {'optimizer': LBFGS(disp=False, maxfun=5), 'maxiter': 20, 'disp':5}\n",
    "# options = {'optimizer': LBFGS(disp=False, maxfun=5), 'maxiter': 20, 'disp':5}\n",
    "res = gp.fit(x_tr, y_tr, method='JJ', options=options)"
   ]
  },
  {
   "cell_type": "code",
   "execution_count": 85,
   "metadata": {
    "collapsed": false
   },
   "outputs": [],
   "source": [
    "y_pred = gp.predict(x_te)"
   ]
  },
  {
   "cell_type": "code",
   "execution_count": 86,
   "metadata": {
    "collapsed": false
   },
   "outputs": [
    {
     "data": {
      "text/plain": [
       "0.92000000000000004"
      ]
     },
     "execution_count": 86,
     "metadata": {},
     "output_type": "execute_result"
    }
   ],
   "source": [
    "gp.get_quality(y_te, y_pred)"
   ]
  },
  {
   "cell_type": "code",
   "execution_count": 87,
   "metadata": {
    "collapsed": false,
    "scrolled": true
   },
   "outputs": [
    {
     "data": {
      "text/plain": [
       "<matplotlib.text.Text at 0x10d69acf8>"
      ]
     },
     "execution_count": 87,
     "metadata": {},
     "output_type": "execute_result"
    },
    {
     "data": {
      "image/png": "[encoded data removed]",
      "text/plain": [
       "<matplotlib.figure.Figure at 0x10d67a390>"
      ]
     },
     "metadata": {},
     "output_type": "display_data"
    }
   ],
   "source": [
    "metric = lambda w: gp.get_prediction_quality(x_te, y_te, w)\n",
    "x_lst, y_lst = res.plot_performance(metric, 't', freq=1)\n",
    "plt.plot(x_lst, y_lst, '-bx', label='vi-JJ')\n",
    "plt.ylim([.8, 1.])\n",
    "plt.legend()\n",
    "plt.xlabel('Seconds')\n",
    "plt.ylabel('Accuracy')"
   ]
  },
  {
   "cell_type": "markdown",
   "metadata": {},
   "source": [
    "### vi-Taylor"
   ]
  },
  {
   "cell_type": "code",
   "execution_count": 88,
   "metadata": {
    "collapsed": false
   },
   "outputs": [],
   "source": [
    "gp = GPCSparse(SE(np.array([1., .5, .2])), inputs=30)"
   ]
  },
  {
   "cell_type": "code",
   "execution_count": 89,
   "metadata": {
    "collapsed": false
   },
   "outputs": [
    {
     "name": "stdout",
     "output_type": "stream",
     "text": [
      "Outter iteration 0 :\n",
      "\tparameters: [ 1.11982794  0.22561988  0.02350254]\n",
      "Outter iteration 5 :\n",
      "\tparameters: [ 1.54728719  0.1850211   0.01      ]\n",
      "Outter iteration 10 :\n",
      "\tparameters: [ 1.7971259   0.20656774  0.01      ]\n",
      "Outter iteration 15 :\n",
      "\tparameters: [ 2.00743883  0.20305704  0.01      ]\n",
      "Outter iteration 20 :\n",
      "\tparameters: [ 2.35259316  0.21262503  0.01      ]\n",
      "Outter iteration 25 :\n",
      "\tparameters: [ 2.49316511  0.20850201  0.01      ]\n",
      "Outter iteration 30 :\n",
      "\tparameters: [ 3.60296367  0.23000754  0.01      ]\n",
      "Outter iteration 35 :\n",
      "\tparameters: [ 6.70762488  0.27081831  0.01      ]\n"
     ]
    }
   ],
   "source": [
    "options = {'optimizer': FGD(disp=False, maxiter=5), 'maxiter': 40, 'disp':5}\n",
    "res = gp.fit(x_tr, y_tr, method='Taylor', options=options)"
   ]
  },
  {
   "cell_type": "code",
   "execution_count": 90,
   "metadata": {
    "collapsed": false
   },
   "outputs": [],
   "source": [
    "y_pred = gp.predict(x_te)"
   ]
  },
  {
   "cell_type": "code",
   "execution_count": 91,
   "metadata": {
    "collapsed": false
   },
   "outputs": [
    {
     "data": {
      "text/plain": [
       "0.92999999999999994"
      ]
     },
     "execution_count": 91,
     "metadata": {},
     "output_type": "execute_result"
    }
   ],
   "source": [
    "gp.get_quality(y_te, y_pred)"
   ]
  },
  {
   "cell_type": "code",
   "execution_count": 92,
   "metadata": {
    "collapsed": false
   },
   "outputs": [
    {
     "data": {
      "text/plain": [
       "<matplotlib.text.Text at 0x10d683dd8>"
      ]
     },
     "execution_count": 92,
     "metadata": {},
     "output_type": "execute_result"
    },
    {
     "data": {
      "image/png": "[encoded data removed]",
      "text/plain": [
       "<matplotlib.figure.Figure at 0x10d6af780>"
      ]
     },
     "metadata": {},
     "output_type": "display_data"
    }
   ],
   "source": [
    "metric = lambda w: gp.get_prediction_quality(x_te, y_te, w)\n",
    "x_lst, y_lst = res.plot_performance(metric, 't', freq=1)\n",
    "plt.plot(x_lst, y_lst, '-bx', label='vi-JJ')\n",
    "plt.ylim([.8, 1.])\n",
    "plt.legend()\n",
    "plt.xlabel('Seconds')\n",
    "plt.ylabel('Accuracy')"
   ]
  },
  {
   "cell_type": "markdown",
   "metadata": {},
   "source": [
    "### vi-JJ-hybrid"
   ]
  },
  {
   "cell_type": "code",
   "execution_count": 93,
   "metadata": {
    "collapsed": false
   },
   "outputs": [],
   "source": [
    "gp = GPCSparse(SE(np.array([1., .5, .2])), inputs=30)"
   ]
  },
  {
   "cell_type": "code",
   "execution_count": 94,
   "metadata": {
    "collapsed": false
   },
   "outputs": [
    {
     "name": "stdout",
     "output_type": "stream",
     "text": [
      "Outter iteration 0 :\n",
      "\tparameters: [  1.30048337e+00  -2.32133236e-01   6.92595595e-04   1.04496299e+00\n",
      "   1.10912979e+00]\n",
      "Outter iteration 5 :\n",
      "\tparameters: [  2.34704341e+00  -2.26870465e-01   1.37171484e-06   4.47750724e+00\n",
      "   3.58936181e+00]\n",
      "Outter iteration 10 :\n",
      "\tparameters: [  2.76797626e+00  -2.19234623e-01   1.64280886e-08   5.38928692e+00\n",
      "   4.21325931e+00]\n",
      "Outter iteration 15 :\n",
      "\tparameters: [  3.17842066e+00  -2.22652287e-01  -2.37384848e-10   5.96449236e+00\n",
      "   4.60559525e+00]\n"
     ]
    }
   ],
   "source": [
    "options = {'optimizer': LBFGS(disp=False, maxfun=5), 'maxiter': 20, 'disp':5}\n",
    "res = gp.fit(x_tr, y_tr, method='JJ_hybrid', options=options)"
   ]
  },
  {
   "cell_type": "code",
   "execution_count": 95,
   "metadata": {
    "collapsed": false
   },
   "outputs": [],
   "source": [
    "y_pred = gp.predict(x_te)"
   ]
  },
  {
   "cell_type": "code",
   "execution_count": 96,
   "metadata": {
    "collapsed": false
   },
   "outputs": [
    {
     "data": {
      "text/plain": [
       "0.92000000000000004"
      ]
     },
     "execution_count": 96,
     "metadata": {},
     "output_type": "execute_result"
    }
   ],
   "source": [
    "gp.get_quality(y_te, y_pred)"
   ]
  },
  {
   "cell_type": "code",
   "execution_count": 97,
   "metadata": {
    "collapsed": false
   },
   "outputs": [
    {
     "data": {
      "text/plain": [
       "<matplotlib.text.Text at 0x10d81b9b0>"
      ]
     },
     "execution_count": 97,
     "metadata": {},
     "output_type": "execute_result"
    },
    {
     "data": {
      "image/png": "[encoded data removed]",
      "text/plain": [
       "<matplotlib.figure.Figure at 0x10d6af7b8>"
      ]
     },
     "metadata": {},
     "output_type": "display_data"
    }
   ],
   "source": [
    "metric = lambda w: gp.get_prediction_quality(x_te, y_te, w)\n",
    "x_lst, y_lst = res.plot_performance(metric, 't', freq=1)\n",
    "plt.plot(x_lst, y_lst, '-mx', label='vi-JJ-hybrid')\n",
    "plt.ylim([.8, 1.])\n",
    "plt.legend()\n",
    "plt.xlabel('Seconds')\n",
    "plt.ylabel('Accuracy')"
   ]
  },
  {
   "cell_type": "markdown",
   "metadata": {},
   "source": [
    "### vi-JJ-full"
   ]
  },
  {
   "cell_type": "code",
   "execution_count": 98,
   "metadata": {
    "collapsed": false
   },
   "outputs": [],
   "source": [
    "gp = GPCSparse(SE(np.array([1., .5, .2])), inputs=30)"
   ]
  },
  {
   "cell_type": "code",
   "execution_count": 99,
   "metadata": {
    "collapsed": false
   },
   "outputs": [],
   "source": [
    "options = {'optimizer': LBFGS(disp=False, maxiter=100)}\n",
    "res = gp.fit(x_tr, y_tr, method='JJ_full', options=options)"
   ]
  },
  {
   "cell_type": "code",
   "execution_count": 100,
   "metadata": {
    "collapsed": true
   },
   "outputs": [],
   "source": [
    "y_pred = gp.predict(x_te)"
   ]
  },
  {
   "cell_type": "code",
   "execution_count": 101,
   "metadata": {
    "collapsed": false,
    "scrolled": true
   },
   "outputs": [
    {
     "data": {
      "text/plain": [
       "0.92999999999999994"
      ]
     },
     "execution_count": 101,
     "metadata": {},
     "output_type": "execute_result"
    }
   ],
   "source": [
    "gp.get_quality(y_te, y_pred)"
   ]
  },
  {
   "cell_type": "code",
   "execution_count": 102,
   "metadata": {
    "collapsed": false
   },
   "outputs": [
    {
     "data": {
      "text/plain": [
       "<matplotlib.text.Text at 0x10dc81198>"
      ]
     },
     "execution_count": 102,
     "metadata": {},
     "output_type": "execute_result"
    },
    {
     "data": {
      "image/png": "[encoded data removed]",
      "text/plain": [
       "<matplotlib.figure.Figure at 0x10db32240>"
      ]
     },
     "metadata": {},
     "output_type": "display_data"
    }
   ],
   "source": [
    "metric = lambda w: gp.get_prediction_quality(x_te, y_te, w)\n",
    "x_lst, y_lst = res.plot_performance(metric, 't', freq=1)\n",
    "plt.plot(x_lst, y_lst, '-kx', label='vi-JJ-full')\n",
    "plt.ylim([.8, 1.])\n",
    "plt.legend()\n",
    "plt.xlabel('Seconds')\n",
    "plt.ylabel('Accuracy')"
   ]
  },
  {
   "cell_type": "code",
   "execution_count": null,
   "metadata": {
    "collapsed": true
   },
   "outputs": [],
   "source": []
  }
 ],
 "metadata": {
  "kernelspec": {
   "display_name": "Python 3",
   "language": "python",
   "name": "python3"
  },
  "language_info": {
   "codemirror_mode": {
    "name": "ipython",
    "version": 3
   },
   "file_extension": ".py",
   "mimetype": "text/x-python",
   "name": "python",
   "nbconvert_exporter": "python",
   "pygments_lexer": "ipython3",
   "version": "3.4.3"
  }
 },
 "nbformat": 4,
 "nbformat_minor": 0
}
