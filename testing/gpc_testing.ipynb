{
 "cells": [
  {
   "cell_type": "code",
   "execution_count": 76,
   "metadata": {
    "collapsed": false
   },
   "outputs": [
    {
     "name": "stdout",
     "output_type": "stream",
     "text": [
      "The autoreload extension is already loaded. To reload it, use:\n",
      "  %reload_ext autoreload\n"
     ]
    }
   ],
   "source": [
    "import sys\n",
    "sys.path.append('/Users/IzmailovPavel/Documents/Education/GPproject/gplib/')\n",
    "import numpy as np\n",
    "% load_ext autoreload\n",
    "% autoreload 2\n",
    "from matplotlib import pyplot as plt\n",
    "% matplotlib inline"
   ]
  },
  {
   "cell_type": "code",
   "execution_count": 77,
   "metadata": {
    "collapsed": false
   },
   "outputs": [],
   "source": [
    "from gplib.gpc import GPCLaplace, GPCSparse\n",
    "from gplib.covfun import SE"
   ]
  },
  {
   "cell_type": "code",
   "execution_count": 78,
   "metadata": {
    "collapsed": false
   },
   "outputs": [],
   "source": [
    "dim = 2\n",
    "num = 200\n",
    "test_num= 100\n",
    "x_tr = np.random.rand(num, dim)\n",
    "if dim == 1:\n",
    "    x_te = np.linspace(0, 1, test_num)\n",
    "    x_te = x_test.reshape(test_num, 1)\n",
    "else:\n",
    "    x_te = np.random.rand(test_num, dim)"
   ]
  },
  {
   "cell_type": "code",
   "execution_count": 79,
   "metadata": {
    "collapsed": false
   },
   "outputs": [],
   "source": [
    "data_gp = GPCLaplace(SE(np.array([1., .2, .1])))"
   ]
  },
  {
   "cell_type": "code",
   "execution_count": 80,
   "metadata": {
    "collapsed": false
   },
   "outputs": [],
   "source": [
    "y_tr, y_te = data_gp.generate_data(x_tr, x_te, seed=21)"
   ]
  },
  {
   "cell_type": "code",
   "execution_count": 81,
   "metadata": {
    "collapsed": false,
    "scrolled": true
   },
   "outputs": [
    {
     "data": {
      "text/plain": [
       "[<matplotlib.lines.Line2D at 0x10e27ff60>]"
      ]
     },
     "execution_count": 81,
     "metadata": {},
     "output_type": "execute_result"
    },
    {
     "data": {
      "image/png": "[encoded data removed]",
      "text/plain": [
       "<matplotlib.figure.Figure at 0x10e27ff28>"
      ]
     },
     "metadata": {},
     "output_type": "display_data"
    }
   ],
   "source": [
    "plt.plot(x_tr[y_tr[:, 0] == 1, 0], x_tr[y_tr[:, 0] == 1, 1], 'bo')\n",
    "plt.plot(x_tr[y_tr[:, 0] == -1, 0], x_tr[y_tr[:, 0] == -1, 1], 'ro')"
   ]
  },
  {
   "cell_type": "markdown",
   "metadata": {},
   "source": [
    "## Laplace"
   ]
  },
  {
   "cell_type": "code",
   "execution_count": 82,
   "metadata": {
    "collapsed": false
   },
   "outputs": [],
   "source": [
    "gp = GPCLaplace(SE(np.array([2., .5, .2])))"
   ]
  },
  {
   "cell_type": "code",
   "execution_count": 83,
   "metadata": {
    "collapsed": false
   },
   "outputs": [
    {
     "name": "stdout",
     "output_type": "stream",
     "text": [
      "Iteration  0\n",
      "Hyper-parameters at iteration  0 :  [ 3.72842957  0.47447809  0.14722251]\n"
     ]
    },
    {
     "data": {
      "text/plain": [
       "([array([ 3.72842957,  0.47447809,  0.14722251]),\n",
       "  array([ 5.26062563,  0.43637476,  0.10598828]),\n",
       "  array([ 4.68536482,  0.34186211,  0.13121642]),\n",
       "  array([ 4.35141912,  0.2854827 ,  0.14225166]),\n",
       "  array([ 4.4445449 ,  0.25316511,  0.09388804]),\n",
       "  array([ 4.20718171,  0.2119067 ,  0.14837086]),\n",
       "  array([ 4.25483462,  0.19576078,  0.18509236]),\n",
       "  array([ 4.43675605,  0.19165586,  0.11249917]),\n",
       "  array([ 4.20804566,  0.17536158,  0.12540132]),\n",
       "  array([ 4.21919936,  0.16906438,  0.12090407])],\n",
       " [0.7464599609375,\n",
       "  1.3572471141815186,\n",
       "  2.334963083267212,\n",
       "  3.28900408744812,\n",
       "  4.055470943450928,\n",
       "  4.953321933746338,\n",
       "  5.528271913528442,\n",
       "  6.314549922943115,\n",
       "  7.804825067520142,\n",
       "  8.293437004089355])"
      ]
     },
     "execution_count": 83,
     "metadata": {},
     "output_type": "execute_result"
    }
   ],
   "source": [
    "gp.fit(x_tr, y_tr, max_iter=10)"
   ]
  },
  {
   "cell_type": "code",
   "execution_count": 84,
   "metadata": {
    "collapsed": false
   },
   "outputs": [],
   "source": [
    "y_pred = gp.predict(x_te, x_tr, y_tr)"
   ]
  },
  {
   "cell_type": "code",
   "execution_count": 85,
   "metadata": {
    "collapsed": false
   },
   "outputs": [
    {
     "data": {
      "text/plain": [
       "0.95999999999999996"
      ]
     },
     "execution_count": 85,
     "metadata": {},
     "output_type": "execute_result"
    }
   ],
   "source": [
    "gp.get_quality(y_te, y_pred)"
   ]
  },
  {
   "cell_type": "markdown",
   "metadata": {},
   "source": [
    "## Inducing Inputs\n",
    "### svi"
   ]
  },
  {
   "cell_type": "code",
   "execution_count": 86,
   "metadata": {
    "collapsed": false
   },
   "outputs": [],
   "source": [
    "gp = GPCSparse(SE(np.array([1., .7, .2])), inputs=30)"
   ]
  },
  {
   "cell_type": "code",
   "execution_count": 87,
   "metadata": {
    "collapsed": false
   },
   "outputs": [
    {
     "name": "stdout",
     "output_type": "stream",
     "text": [
      "Using AdaDelta optimizer\n",
      "Iteration  10 :\n",
      "\tGradient norm 2.97140722206\n",
      "Iteration  20 :\n",
      "\tGradient norm 1.92072784751\n",
      "Iteration  30 :\n",
      "\tGradient norm 2.41237782644\n"
     ]
    }
   ],
   "source": [
    "options = {'maxiter': 30, \n",
    "           'verbose': True, 'batch_size':20, 'step_rate': 0.5, 'decay': 0.8,\n",
    "           'print_freq': 10}\n",
    "res = gp.fit(x_tr, y_tr, method='svi', options=options)"
   ]
  },
  {
   "cell_type": "code",
   "execution_count": 88,
   "metadata": {
    "collapsed": false
   },
   "outputs": [],
   "source": [
    "y_pred = gp.predict(x_te)"
   ]
  },
  {
   "cell_type": "code",
   "execution_count": 89,
   "metadata": {
    "collapsed": false
   },
   "outputs": [
    {
     "data": {
      "text/plain": [
       "0.90000000000000002"
      ]
     },
     "execution_count": 89,
     "metadata": {},
     "output_type": "execute_result"
    }
   ],
   "source": [
    "gp.get_quality(y_te, y_pred)"
   ]
  },
  {
   "cell_type": "code",
   "execution_count": 90,
   "metadata": {
    "collapsed": false
   },
   "outputs": [
    {
     "data": {
      "text/plain": [
       "<matplotlib.text.Text at 0x10ea73390>"
      ]
     },
     "execution_count": 90,
     "metadata": {},
     "output_type": "execute_result"
    },
    {
     "data": {
      "image/png": "[encoded data removed]",
      "text/plain": [
       "<matplotlib.figure.Figure at 0x10e22b550>"
      ]
     },
     "metadata": {},
     "output_type": "display_data"
    }
   ],
   "source": [
    "metric = lambda w: gp.get_prediction_quality(x_te, y_te, w)\n",
    "x_lst, y_lst = res.plot_performance(metric, 't', freq=1)\n",
    "plt.plot(x_lst[1:], y_lst[1:], '-rx', label='svi-AdaDelta')\n",
    "plt.ylim([.8, 1.])\n",
    "plt.legend()\n",
    "plt.xlabel('Seconds')\n",
    "plt.ylabel('Accuracy')"
   ]
  },
  {
   "cell_type": "markdown",
   "metadata": {},
   "source": [
    "### vi-JJ"
   ]
  },
  {
   "cell_type": "code",
   "execution_count": 91,
   "metadata": {
    "collapsed": false
   },
   "outputs": [],
   "source": [
    "gp = GPCSparse(SE(np.array([1., .7, .2])), inputs=30)"
   ]
  },
  {
   "cell_type": "code",
   "execution_count": 92,
   "metadata": {
    "collapsed": false,
    "scrolled": true
   },
   "outputs": [],
   "source": [
    "options = {'maxfun': 5, 'mydisp': True, 'n_upd':5, 'maxiter':20}\n",
    "res = gp.fit(x_tr, y_tr, method='vi_jj', options=options)"
   ]
  },
  {
   "cell_type": "code",
   "execution_count": 93,
   "metadata": {
    "collapsed": false
   },
   "outputs": [],
   "source": [
    "y_pred = gp.predict(x_te)"
   ]
  },
  {
   "cell_type": "code",
   "execution_count": 94,
   "metadata": {
    "collapsed": false
   },
   "outputs": [
    {
     "data": {
      "text/plain": [
       "0.92999999999999994"
      ]
     },
     "execution_count": 94,
     "metadata": {},
     "output_type": "execute_result"
    }
   ],
   "source": [
    "gp.get_quality(y_te, y_pred)"
   ]
  },
  {
   "cell_type": "code",
   "execution_count": 95,
   "metadata": {
    "collapsed": false,
    "scrolled": true
   },
   "outputs": [
    {
     "data": {
      "text/plain": [
       "<matplotlib.text.Text at 0x10eb936a0>"
      ]
     },
     "execution_count": 95,
     "metadata": {},
     "output_type": "execute_result"
    },
    {
     "data": {
      "image/png": "[encoded data removed]",
      "text/plain": [
       "<matplotlib.figure.Figure at 0x10e977a58>"
      ]
     },
     "metadata": {},
     "output_type": "display_data"
    }
   ],
   "source": [
    "metric = lambda w: gp.get_prediction_quality(x_te, y_te, w)\n",
    "x_lst, y_lst = res.plot_performance(metric, 't', freq=1)\n",
    "plt.plot(x_lst, y_lst, '-bx', label='vi-JJ')\n",
    "plt.ylim([.8, 1.])\n",
    "plt.legend()\n",
    "plt.xlabel('Seconds')\n",
    "plt.ylabel('Accuracy')"
   ]
  },
  {
   "cell_type": "markdown",
   "metadata": {},
   "source": [
    "### vi-Taylor"
   ]
  },
  {
   "cell_type": "code",
   "execution_count": 96,
   "metadata": {
    "collapsed": false
   },
   "outputs": [],
   "source": [
    "gp = GPCSparse(SE(np.array([1., .5, .2])), inputs=30)"
   ]
  },
  {
   "cell_type": "code",
   "execution_count": 97,
   "metadata": {
    "collapsed": false
   },
   "outputs": [],
   "source": [
    "options = {'maxfun': 5, 'disp': False, 'mydisp': True, 'n_upd':5}\n",
    "res = gp.fit(x_tr, y_tr, method='vi_taylor', options=options)"
   ]
  },
  {
   "cell_type": "code",
   "execution_count": 98,
   "metadata": {
    "collapsed": false
   },
   "outputs": [],
   "source": [
    "y_pred = gp.predict(x_te)"
   ]
  },
  {
   "cell_type": "code",
   "execution_count": 99,
   "metadata": {
    "collapsed": false
   },
   "outputs": [
    {
     "data": {
      "text/plain": [
       "0.94999999999999996"
      ]
     },
     "execution_count": 99,
     "metadata": {},
     "output_type": "execute_result"
    }
   ],
   "source": [
    "gp.get_quality(y_te, y_pred)"
   ]
  },
  {
   "cell_type": "code",
   "execution_count": 100,
   "metadata": {
    "collapsed": false
   },
   "outputs": [
    {
     "data": {
      "text/plain": [
       "<matplotlib.text.Text at 0x10eb89160>"
      ]
     },
     "execution_count": 100,
     "metadata": {},
     "output_type": "execute_result"
    },
    {
     "data": {
      "image/png": "[encoded data removed]",
      "text/plain": [
       "<matplotlib.figure.Figure at 0x10ecdbef0>"
      ]
     },
     "metadata": {},
     "output_type": "display_data"
    }
   ],
   "source": [
    "metric = lambda w: gp.get_prediction_quality(x_te, y_te, w)\n",
    "x_lst, y_lst = res.plot_performance(metric, 't', freq=1)\n",
    "plt.plot(x_lst, y_lst, '-bx', label='vi-JJ')\n",
    "plt.ylim([.8, 1.])\n",
    "plt.legend()\n",
    "plt.xlabel('Seconds')\n",
    "plt.ylabel('Accuracy')"
   ]
  },
  {
   "cell_type": "markdown",
   "metadata": {},
   "source": [
    "### vi-JJ-hybrid"
   ]
  },
  {
   "cell_type": "code",
   "execution_count": 101,
   "metadata": {
    "collapsed": false
   },
   "outputs": [],
   "source": [
    "gp = GPCSparse(SE(np.array([1., .5, .2])), inputs=30)"
   ]
  },
  {
   "cell_type": "code",
   "execution_count": 102,
   "metadata": {
    "collapsed": false
   },
   "outputs": [],
   "source": [
    "options = {'maxfun': 5, 'disp': False, 'mydisp': True, 'n_upd':5, 'maxiter':10}\n",
    "res = gp.fit(x_tr, y_tr, method='vi_jj_hybrid', options=options)"
   ]
  },
  {
   "cell_type": "code",
   "execution_count": 103,
   "metadata": {
    "collapsed": false
   },
   "outputs": [],
   "source": [
    "y_pred = gp.predict(x_te)"
   ]
  },
  {
   "cell_type": "code",
   "execution_count": 104,
   "metadata": {
    "collapsed": false
   },
   "outputs": [
    {
     "data": {
      "text/plain": [
       "0.92999999999999994"
      ]
     },
     "execution_count": 104,
     "metadata": {},
     "output_type": "execute_result"
    }
   ],
   "source": [
    "gp.get_quality(y_te, y_pred)"
   ]
  },
  {
   "cell_type": "code",
   "execution_count": 105,
   "metadata": {
    "collapsed": false
   },
   "outputs": [
    {
     "data": {
      "text/plain": [
       "<matplotlib.text.Text at 0x10e92d668>"
      ]
     },
     "execution_count": 105,
     "metadata": {},
     "output_type": "execute_result"
    },
    {
     "data": {
      "image/png": "[encoded data removed]",
      "text/plain": [
       "<matplotlib.figure.Figure at 0x10ec18d68>"
      ]
     },
     "metadata": {},
     "output_type": "display_data"
    }
   ],
   "source": [
    "metric = lambda w: gp.get_prediction_quality(x_te, y_te, w)\n",
    "x_lst, y_lst = res.plot_performance(metric, 't', freq=1)\n",
    "plt.plot(x_lst, y_lst, '-mx', label='vi-JJ-hybrid')\n",
    "plt.ylim([.8, 1.])\n",
    "plt.legend()\n",
    "plt.xlabel('Seconds')\n",
    "plt.ylabel('Accuracy')"
   ]
  },
  {
   "cell_type": "markdown",
   "metadata": {},
   "source": [
    "### vi-JJ-full"
   ]
  },
  {
   "cell_type": "code",
   "execution_count": 106,
   "metadata": {
    "collapsed": false
   },
   "outputs": [],
   "source": [
    "gp = GPCSparse(SE(np.array([1., .5, .2])), inputs=30)"
   ]
  },
  {
   "cell_type": "code",
   "execution_count": 107,
   "metadata": {
    "collapsed": false
   },
   "outputs": [],
   "source": [
    "options = {'maxiter': 10, 'disp': False, 'mydisp': True}\n",
    "res = gp.fit(x_tr, y_tr, method='vi_jj_full', options=options)"
   ]
  },
  {
   "cell_type": "code",
   "execution_count": 108,
   "metadata": {
    "collapsed": true
   },
   "outputs": [],
   "source": [
    "y_pred = gp.predict(x_te)"
   ]
  },
  {
   "cell_type": "code",
   "execution_count": 109,
   "metadata": {
    "collapsed": false,
    "scrolled": true
   },
   "outputs": [
    {
     "data": {
      "text/plain": [
       "0.91000000000000003"
      ]
     },
     "execution_count": 109,
     "metadata": {},
     "output_type": "execute_result"
    }
   ],
   "source": [
    "gp.get_quality(y_te, y_pred)"
   ]
  },
  {
   "cell_type": "code",
   "execution_count": 110,
   "metadata": {
    "collapsed": false
   },
   "outputs": [
    {
     "data": {
      "text/plain": [
       "<matplotlib.text.Text at 0x10cfcec50>"
      ]
     },
     "execution_count": 110,
     "metadata": {},
     "output_type": "execute_result"
    },
    {
     "data": {
      "image/png": "[encoded data removed]",
      "text/plain": [
       "<matplotlib.figure.Figure at 0x10e9e57f0>"
      ]
     },
     "metadata": {},
     "output_type": "display_data"
    }
   ],
   "source": [
    "metric = lambda w: gp.get_prediction_quality(x_te, y_te, w)\n",
    "x_lst, y_lst = res.plot_performance(metric, 't', freq=1)\n",
    "plt.plot(x_lst, y_lst, '-kx', label='vi-JJ-full')\n",
    "plt.ylim([.8, 1.])\n",
    "plt.legend()\n",
    "plt.xlabel('Seconds')\n",
    "plt.ylabel('Accuracy')"
   ]
  }
 ],
 "metadata": {
  "kernelspec": {
   "display_name": "Python 3",
   "language": "python",
   "name": "python3"
  },
  "language_info": {
   "codemirror_mode": {
    "name": "ipython",
    "version": 3
   },
   "file_extension": ".py",
   "mimetype": "text/x-python",
   "name": "python",
   "nbconvert_exporter": "python",
   "pygments_lexer": "ipython3",
   "version": "3.4.3"
  }
 },
 "nbformat": 4,
 "nbformat_minor": 0
}
