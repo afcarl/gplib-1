{
 "cells": [
  {
   "cell_type": "code",
   "execution_count": 12,
   "metadata": {
    "collapsed": false
   },
   "outputs": [
    {
     "name": "stdout",
     "output_type": "stream",
     "text": [
      "The autoreload extension is already loaded. To reload it, use:\n",
      "  %reload_ext autoreload\n"
     ]
    }
   ],
   "source": [
    "import sys\n",
    "sys.path.append('/Users/IzmailovPavel/Documents/Education/GPproject/gplib/')\n",
    "import numpy as np\n",
    "% load_ext autoreload\n",
    "% autoreload 2\n",
    "from matplotlib import pyplot as plt\n",
    "% matplotlib inline"
   ]
  },
  {
   "cell_type": "code",
   "execution_count": 13,
   "metadata": {
    "collapsed": false
   },
   "outputs": [],
   "source": [
    "from gplib.gpc import GPCLaplace, GPCSparse\n",
    "from gplib.covfun import SE"
   ]
  },
  {
   "cell_type": "code",
   "execution_count": 14,
   "metadata": {
    "collapsed": false
   },
   "outputs": [],
   "source": [
    "dim = 2\n",
    "num = 200\n",
    "test_num= 100\n",
    "x_tr = np.random.rand(num, dim)\n",
    "if dim == 1:\n",
    "    x_test = np.linspace(0, 1, test_num)\n",
    "    x_test = x_test.reshape(test_num, 1)\n",
    "else:\n",
    "    x_test = np.random.rand(test_num, dim)"
   ]
  },
  {
   "cell_type": "code",
   "execution_count": 15,
   "metadata": {
    "collapsed": false
   },
   "outputs": [],
   "source": [
    "data_gp = GPCLaplace(SE(np.array([1., .2, .1])))"
   ]
  },
  {
   "cell_type": "code",
   "execution_count": 16,
   "metadata": {
    "collapsed": false
   },
   "outputs": [],
   "source": [
    "y_tr, y_te = data_gp.generate_data(x_tr, x_test)"
   ]
  },
  {
   "cell_type": "code",
   "execution_count": 17,
   "metadata": {
    "collapsed": false,
    "scrolled": true
   },
   "outputs": [
    {
     "data": {
      "text/plain": [
       "[<matplotlib.lines.Line2D at 0x10d16e198>]"
      ]
     },
     "execution_count": 17,
     "metadata": {},
     "output_type": "execute_result"
    },
    {
     "data": {
      "image/png": "[encoded data removed]",
      "text/plain": [
       "<matplotlib.figure.Figure at 0x10d16b518>"
      ]
     },
     "metadata": {},
     "output_type": "display_data"
    }
   ],
   "source": [
    "plt.plot(x_tr[y_tr[:, 0] == 1, 0], x_tr[y_tr[:, 0] == 1, 1], 'bo')\n",
    "plt.plot(x_tr[y_tr[:, 0] == -1, 0], x_tr[y_tr[:, 0] == -1, 1], 'ro')"
   ]
  },
  {
   "cell_type": "markdown",
   "metadata": {},
   "source": [
    "## Laplace"
   ]
  },
  {
   "cell_type": "code",
   "execution_count": 18,
   "metadata": {
    "collapsed": true
   },
   "outputs": [],
   "source": [
    "gp = GPCLaplace(SE(np.array([2., .5, .2])))"
   ]
  },
  {
   "cell_type": "code",
   "execution_count": 19,
   "metadata": {
    "collapsed": false
   },
   "outputs": [
    {
     "name": "stdout",
     "output_type": "stream",
     "text": [
      "Iteration  0\n",
      "Hyper-parameters at iteration  0 :  [ 3.21096408  0.46599091  0.15629835]\n"
     ]
    },
    {
     "data": {
      "text/plain": [
       "([array([ 3.21096408,  0.46599091,  0.15629835]),\n",
       "  array([ 4.08388722,  0.42645519,  0.12864645]),\n",
       "  array([ 4.71159599,  0.38044896,  0.17064383]),\n",
       "  array([ 4.92222715,  0.34035677,  0.139913  ]),\n",
       "  array([ 4.1612675 ,  0.28965505,  0.1363412 ]),\n",
       "  array([ 3.88250229,  0.24603329,  0.13416949]),\n",
       "  array([ 3.81400383,  0.22046923,  0.12231952]),\n",
       "  array([ 3.8312692 ,  0.19982537,  0.1918783 ]),\n",
       "  array([ 3.91533712,  0.19133814,  0.15854067]),\n",
       "  array([ 3.97338076,  0.18087665,  0.14962582])],\n",
       " [0.43174004554748535,\n",
       "  0.8478519916534424,\n",
       "  1.4690752029418945,\n",
       "  1.7939221858978271,\n",
       "  2.366690158843994,\n",
       "  2.8392460346221924,\n",
       "  3.375296115875244,\n",
       "  3.8538870811462402,\n",
       "  4.378111124038696,\n",
       "  4.588958024978638])"
      ]
     },
     "execution_count": 19,
     "metadata": {},
     "output_type": "execute_result"
    }
   ],
   "source": [
    "gp.fit(x_tr, y_tr, max_iter=10)"
   ]
  },
  {
   "cell_type": "code",
   "execution_count": 20,
   "metadata": {
    "collapsed": false
   },
   "outputs": [],
   "source": [
    "y_pred = gp.predict(x_test, x_tr, y_tr)"
   ]
  },
  {
   "cell_type": "code",
   "execution_count": 21,
   "metadata": {
    "collapsed": false
   },
   "outputs": [
    {
     "data": {
      "text/plain": [
       "92"
      ]
     },
     "execution_count": 21,
     "metadata": {},
     "output_type": "execute_result"
    }
   ],
   "source": [
    "np.sum(y_pred == y_te)"
   ]
  },
  {
   "cell_type": "markdown",
   "metadata": {},
   "source": [
    "## Inducing Inputs\n",
    "### svi"
   ]
  },
  {
   "cell_type": "code",
   "execution_count": 22,
   "metadata": {
    "collapsed": false
   },
   "outputs": [],
   "source": [
    "gp = GPCSparse(SE(np.array([1., .7, .2])), inputs=30)"
   ]
  },
  {
   "cell_type": "code",
   "execution_count": 23,
   "metadata": {
    "collapsed": false
   },
   "outputs": [
    {
     "name": "stdout",
     "output_type": "stream",
     "text": [
      "Using AdaDelta optimizer\n",
      "Iteration  10 :\n",
      "\tGradient norm 2.31628559587\n",
      "Iteration  20 :\n",
      "\tGradient norm 5.43159895476\n",
      "Iteration  30 :\n",
      "\tGradient norm 3.85861492816\n",
      "Iteration  40 :\n",
      "\tGradient norm 2.00136997263\n",
      "Iteration  50 :\n",
      "\tGradient norm 3.61475814731\n",
      "Iteration  60 :\n",
      "\tGradient norm 2.97468172318\n",
      "Iteration  70 :\n",
      "\tGradient norm 2.94829503854\n",
      "Iteration  80 :\n",
      "\tGradient norm 2.55630021433\n",
      "Iteration  90 :\n",
      "\tGradient norm 1.73993533161\n",
      "Iteration  100 :\n",
      "\tGradient norm 1.9516219115\n"
     ]
    }
   ],
   "source": [
    "options = {'hermgauss_deg': 100, 'mode': 'adadelta', 'maxiter': 100, \n",
    "           'verbose': True, 'batch_size':20, 'step_rate': 0.5, 'decay': 0.8,\n",
    "           'print_freq': 10}\n",
    "res = gp.fit(x_tr, y_tr, method='svi', method_options=options)"
   ]
  },
  {
   "cell_type": "code",
   "execution_count": 24,
   "metadata": {
    "collapsed": true
   },
   "outputs": [],
   "source": [
    "y_pred = gp.predict(x_test)"
   ]
  },
  {
   "cell_type": "code",
   "execution_count": 25,
   "metadata": {
    "collapsed": false
   },
   "outputs": [
    {
     "data": {
      "text/plain": [
       "86"
      ]
     },
     "execution_count": 25,
     "metadata": {},
     "output_type": "execute_result"
    }
   ],
   "source": [
    "np.sum(y_pred == y_te)"
   ]
  },
  {
   "cell_type": "code",
   "execution_count": 26,
   "metadata": {
    "collapsed": false
   },
   "outputs": [
    {
     "data": {
      "text/plain": [
       "<matplotlib.text.Text at 0x10d4e7908>"
      ]
     },
     "execution_count": 26,
     "metadata": {},
     "output_type": "execute_result"
    },
    {
     "data": {
      "image/png": "[encoded data removed]",
      "text/plain": [
       "<matplotlib.figure.Figure at 0x10d4ccda0>"
      ]
     },
     "metadata": {},
     "output_type": "display_data"
    }
   ],
   "source": [
    "metric = lambda w: gp.get_prediction_quality(w, x_test, y_te)\n",
    "x_lst, y_lst = res.plot_performance(metric, 't', freq=1)\n",
    "plt.plot(x_lst[1:], y_lst[1:], '-rx', label='svi-AdaDelta')\n",
    "plt.ylim([.8, 1.])\n",
    "plt.legend()\n",
    "plt.xlabel('Seconds')\n",
    "plt.ylabel('Accuracy')"
   ]
  },
  {
   "cell_type": "markdown",
   "metadata": {},
   "source": [
    "### vi-JJ"
   ]
  },
  {
   "cell_type": "code",
   "execution_count": 27,
   "metadata": {
    "collapsed": false
   },
   "outputs": [],
   "source": [
    "gp = GPCSparse(SE(np.array([1., .7, .2])), inputs=30)"
   ]
  },
  {
   "cell_type": "code",
   "execution_count": 28,
   "metadata": {
    "collapsed": false
   },
   "outputs": [
    {
     "name": "stdout",
     "output_type": "stream",
     "text": [
      "Hyper-parameters at iteration 0 : [ 1.   0.7  0.2]\n",
      "Hyper-parameters at iteration 1 : [ 5.5390576   0.53022173  0.15324946]\n",
      "\tHyper-parameters at outter iteration 0 : [ 5.4195564   0.44826992  0.13068302]\n",
      "Hyper-parameters at iteration 0 : [ 5.4195564   0.44826992  0.13068302]\n",
      "Hyper-parameters at iteration 1 : [ 5.59842498  0.34941259  0.10346144]\n",
      "Hyper-parameters at iteration 2 : [ 5.61537369  0.34069187  0.07957348]\n",
      "\tHyper-parameters at outter iteration 1 : [ 5.62226314  0.33814176  0.01      ]\n",
      "Hyper-parameters at iteration 0 : [ 5.62226314  0.33814176  0.01      ]\n",
      "Hyper-parameters at iteration 1 : [ 5.65518295  0.29611643  0.01      ]\n",
      "Hyper-parameters at iteration 2 : [ 5.6479219   0.30431114  0.01      ]\n",
      "\tHyper-parameters at outter iteration 2 : [ 5.64796477  0.30339168  0.01      ]\n",
      "Hyper-parameters at iteration 0 : [ 5.64796477  0.30339168  0.01      ]\n",
      "Hyper-parameters at iteration 1 : [ 5.66154914  0.27335903  0.01      ]\n",
      "Hyper-parameters at iteration 2 : [ 5.65531625  0.2865027   0.01      ]\n",
      "\tHyper-parameters at outter iteration 3 : [ 5.65543579  0.28565492  0.01      ]\n",
      "Hyper-parameters at iteration 0 : [ 5.65543579  0.28565492  0.01      ]\n",
      "Hyper-parameters at iteration 1 : [ 5.65791711  0.27584265  0.01      ]\n",
      "\tHyper-parameters at outter iteration 4 : [ 5.6577987   0.27569965  0.01      ]\n",
      "Hyper-parameters at iteration 0 : [ 5.6577987   0.27569965  0.01      ]\n",
      "Hyper-parameters at iteration 1 : [ 5.65863814  0.26992326  0.01      ]\n",
      "\tHyper-parameters at outter iteration 5 : [ 5.6585674   0.26981251  0.01      ]\n",
      "Hyper-parameters at iteration 0 : [ 5.6585674   0.26981251  0.01      ]\n",
      "Hyper-parameters at iteration 1 : [ 5.65886704  0.2662691   0.01      ]\n",
      "\tHyper-parameters at outter iteration 6 : [ 5.65882089  0.26619171  0.01      ]\n",
      "Hyper-parameters at iteration 0 : [ 5.65882089  0.26619171  0.01      ]\n",
      "Hyper-parameters at iteration 1 : [ 5.65892263  0.26395904  0.01      ]\n",
      "\tHyper-parameters at outter iteration 7 : [ 5.65889111  0.26390674  0.01      ]\n",
      "Hyper-parameters at iteration 0 : [ 5.65889111  0.26390674  0.01      ]\n",
      "Hyper-parameters at iteration 1 : [ 5.65891722  0.26247345  0.01      ]\n",
      "\tHyper-parameters at outter iteration 8 : [ 5.65889471  0.2624385   0.01      ]\n",
      "Hyper-parameters at iteration 0 : [ 5.65889471  0.2624385   0.01      ]\n",
      "Hyper-parameters at iteration 1 : [ 5.65889288  0.26150579  0.01      ]\n",
      "\tHyper-parameters at outter iteration 9 : [ 5.65887594  0.26148247  0.01      ]\n",
      "Hyper-parameters at iteration 0 : [ 5.65887594  0.26148247  0.01      ]\n",
      "Hyper-parameters at iteration 1 : [ 5.65886541  0.26086921  0.01      ]\n",
      "\tHyper-parameters at outter iteration 10 : [ 5.65885192  0.26085361  0.01      ]\n",
      "Hyper-parameters at iteration 0 : [ 5.65885192  0.26085361  0.01      ]\n",
      "Hyper-parameters at iteration 1 : [ 5.65884025  0.26044707  0.01      ]\n",
      "\tHyper-parameters at outter iteration 11 : [ 5.65882887  0.2604366   0.01      ]\n",
      "Hyper-parameters at iteration 0 : [ 5.65882887  0.2604366   0.01      ]\n",
      "Hyper-parameters at iteration 1 : [ 5.65881871  0.26016525  0.01      ]\n",
      "\tHyper-parameters at outter iteration 12 : [ 5.65880861  0.26015818  0.01      ]\n",
      "Hyper-parameters at iteration 0 : [ 5.65880861  0.26015818  0.01      ]\n",
      "Hyper-parameters at iteration 1 : [ 5.65880059  0.25997601  0.01      ]\n",
      "\tHyper-parameters at outter iteration 13 : [ 5.65879126  0.2599712   0.01      ]\n",
      "Hyper-parameters at iteration 0 : [ 5.65879126  0.2599712   0.01      ]\n",
      "Hyper-parameters at iteration 1 : [ 5.658785    0.25985079  0.01      ]\n",
      "Hyper-parameters at iteration 2 : [ 5.65877598  0.25984493  0.01      ]\n",
      "\tHyper-parameters at outter iteration 14 : [ 5.65877598  0.25984493  0.01      ]\n",
      "Hyper-parameters at iteration 0 : [ 5.65877598  0.25984493  0.01      ]\n",
      "Hyper-parameters at iteration 1 : [ 5.6587692   0.25976271  0.01      ]\n",
      "Hyper-parameters at iteration 2 : [ 5.65876037  0.25975902  0.01      ]\n",
      "\tHyper-parameters at outter iteration 15 : [ 5.65876037  0.25975902  0.01      ]\n",
      "Hyper-parameters at iteration 0 : [ 5.65876037  0.25975902  0.01      ]\n",
      "Hyper-parameters at iteration 1 : [ 5.65875295  0.25970101  0.01      ]\n",
      "\tHyper-parameters at outter iteration 16 : [ 5.65857223  0.25968247  0.01      ]\n",
      "Hyper-parameters at iteration 0 : [ 5.65857223  0.25968247  0.01      ]\n",
      "Hyper-parameters at iteration 1 : [ 5.65856412  0.25965007  0.01      ]\n",
      "Hyper-parameters at iteration 2 : [ 5.65837494  0.25963287  0.01      ]\n",
      "\tHyper-parameters at outter iteration 17 : [ 5.65581149  0.25950303  0.01      ]\n",
      "Hyper-parameters at iteration 0 : [ 5.65581149  0.25950303  0.01      ]\n",
      "Hyper-parameters at iteration 1 : [ 5.65580248  0.25953645  0.01      ]\n",
      "Hyper-parameters at iteration 2 : [ 5.65563566  0.25951379  0.01      ]\n",
      "\tHyper-parameters at outter iteration 18 : [ 5.65467304  0.25945179  0.01      ]\n",
      "Hyper-parameters at iteration 0 : [ 5.65467304  0.25945179  0.01      ]\n",
      "Hyper-parameters at iteration 1 : [ 5.65466424  0.2594889   0.01      ]\n",
      "Hyper-parameters at iteration 2 : [ 5.65462596  0.25948269  0.01      ]\n",
      "Hyper-parameters at iteration 3 : [ 5.65390876  0.25942243  0.01      ]\n",
      "\tHyper-parameters at outter iteration 19 : [ 5.65229049  0.25934241  0.01      ]\n"
     ]
    }
   ],
   "source": [
    "options = {'maxfun': 5, 'disp': False, 'mydisp': True, 'num_updates':5}\n",
    "res = gp.fit(x_tr, y_tr, method='vi_jj', method_options=options)"
   ]
  },
  {
   "cell_type": "code",
   "execution_count": 29,
   "metadata": {
    "collapsed": false
   },
   "outputs": [],
   "source": [
    "y_pred = gp.predict(x_test)"
   ]
  },
  {
   "cell_type": "code",
   "execution_count": 30,
   "metadata": {
    "collapsed": false
   },
   "outputs": [
    {
     "data": {
      "text/plain": [
       "91"
      ]
     },
     "execution_count": 30,
     "metadata": {},
     "output_type": "execute_result"
    }
   ],
   "source": [
    "np.sum(y_pred == y_te)"
   ]
  },
  {
   "cell_type": "code",
   "execution_count": 31,
   "metadata": {
    "collapsed": false
   },
   "outputs": [
    {
     "data": {
      "text/plain": [
       "<matplotlib.text.Text at 0x10d7deb38>"
      ]
     },
     "execution_count": 31,
     "metadata": {},
     "output_type": "execute_result"
    },
    {
     "data": {
      "image/png": "[encoded data removed]",
      "text/plain": [
       "<matplotlib.figure.Figure at 0x10d500198>"
      ]
     },
     "metadata": {},
     "output_type": "display_data"
    }
   ],
   "source": [
    "metric = lambda w: gp.get_prediction_quality(w, x_test, y_te)\n",
    "x_lst, y_lst = res.plot_performance(metric, 't', freq=1)\n",
    "plt.plot(x_lst[1:], y_lst[1:], '-bx', label='vi-JJ')\n",
    "plt.ylim([.8, 1.])\n",
    "plt.legend()\n",
    "plt.xlabel('Seconds')\n",
    "plt.ylabel('Accuracy')"
   ]
  },
  {
   "cell_type": "markdown",
   "metadata": {},
   "source": [
    "### vi-Taylor"
   ]
  },
  {
   "cell_type": "code",
   "execution_count": 32,
   "metadata": {
    "collapsed": false
   },
   "outputs": [],
   "source": [
    "gp = GPCSparse(SE(np.array([1., .5, .2])), inputs=30)"
   ]
  },
  {
   "cell_type": "code",
   "execution_count": 33,
   "metadata": {
    "collapsed": false
   },
   "outputs": [
    {
     "name": "stdout",
     "output_type": "stream",
     "text": [
      "Hyper-parameters at iteration 0 : [ 1.   0.5  0.2]\n",
      "Hyper-parameters at iteration 1 : [ 4.3415176   0.42485812  0.17086335]\n",
      "Hyper-parameters at iteration 2 : [ 4.37654883  0.52621025  0.01      ]\n",
      "Hyper-parameters at iteration 3 : [ 4.17505473  0.49559041  0.01      ]\n",
      "\tHyper-parameters at outter iteration 0 : [ 3.14241797  0.36992544  0.01      ]\n",
      "Hyper-parameters at iteration 0 : [ 3.14241797  0.36992544  0.01      ]\n",
      "Hyper-parameters at iteration 1 : [ 3.6936357   0.30790788  0.01      ]\n",
      "Hyper-parameters at iteration 2 : [ 3.67123458  0.31009554  0.01      ]\n",
      "\tHyper-parameters at outter iteration 1 : [ 3.66914542  0.30981042  0.01      ]\n",
      "Hyper-parameters at iteration 0 : [ 3.66914542  0.30981042  0.01      ]\n",
      "Hyper-parameters at iteration 1 : [ 3.92961318  0.27093075  0.01      ]\n",
      "Hyper-parameters at iteration 2 : [ 3.91349283  0.27492362  0.01      ]\n",
      "\tHyper-parameters at outter iteration 2 : [ 3.92135523  0.27487726  0.01      ]\n",
      "Hyper-parameters at iteration 0 : [ 3.92135523  0.27487726  0.01      ]\n",
      "Hyper-parameters at iteration 1 : [ 4.01208382  0.25244135  0.01      ]\n",
      "Hyper-parameters at iteration 2 : [ 3.9876106   0.25947832  0.01      ]\n",
      "\tHyper-parameters at outter iteration 3 : [ 3.99277425  0.25893865  0.01      ]\n",
      "Hyper-parameters at iteration 0 : [ 3.99277425  0.25893865  0.01      ]\n",
      "Hyper-parameters at iteration 1 : [ 4.00912343  0.25257385  0.01      ]\n",
      "\tHyper-parameters at outter iteration 4 : [ 4.01083097  0.25254509  0.01      ]\n",
      "Hyper-parameters at iteration 0 : [ 4.01083097  0.25254509  0.01      ]\n",
      "Hyper-parameters at iteration 1 : [ 4.01518837  0.25024607  0.01      ]\n",
      "\tHyper-parameters at outter iteration 5 : [ 4.01615476  0.25023644  0.01      ]\n",
      "Hyper-parameters at iteration 0 : [ 4.01615476  0.25023644  0.01      ]\n",
      "Hyper-parameters at iteration 1 : [ 4.01747645  0.24942806  0.01      ]\n",
      "\tHyper-parameters at outter iteration 6 : [ 4.01821023  0.2494344   0.01      ]\n",
      "Hyper-parameters at iteration 0 : [ 4.01821023  0.2494344   0.01      ]\n",
      "Hyper-parameters at iteration 1 : [ 4.1314649   0.25638259  0.01      ]\n",
      "Hyper-parameters at iteration 2 : [ 4.2442022   0.25739093  0.01      ]\n",
      "Hyper-parameters at iteration 3 : [ 4.43979936  0.259427    0.01      ]\n",
      "Hyper-parameters at iteration 4 : [ 4.47865748  0.26021341  0.01      ]\n",
      "\tHyper-parameters at outter iteration 7 : [ 4.48461046  0.26034756  0.01      ]\n",
      "Hyper-parameters at iteration 0 : [ 4.48461046  0.26034756  0.01      ]\n",
      "Hyper-parameters at iteration 1 : [ 4.48596054  0.25860328  0.01      ]\n",
      "\tHyper-parameters at outter iteration 8 : [ 4.4861096   0.25857156  0.01      ]\n",
      "Hyper-parameters at iteration 0 : [ 4.4861096   0.25857156  0.01      ]\n",
      "Hyper-parameters at iteration 1 : [ 4.48654344  0.25787377  0.01      ]\n",
      "\tHyper-parameters at outter iteration 9 : [ 4.48665811  0.2578621   0.01      ]\n",
      "Hyper-parameters at iteration 0 : [ 4.48665811  0.2578621   0.01      ]\n",
      "Hyper-parameters at iteration 1 : [ 4.48680242  0.25760157  0.01      ]\n",
      "\tHyper-parameters at outter iteration 10 : [ 4.48690445  0.25759857  0.01      ]\n",
      "Hyper-parameters at iteration 0 : [ 4.48690445  0.25759857  0.01      ]\n",
      "Hyper-parameters at iteration 1 : [ 4.48710756  0.25744441  0.01      ]\n",
      "\tHyper-parameters at outter iteration 11 : [ 4.49129902  0.25754008  0.01      ]\n",
      "Hyper-parameters at iteration 0 : [ 4.49129902  0.25754008  0.01      ]\n",
      "Hyper-parameters at iteration 1 : [ 4.49225624  0.25784928  0.01      ]\n",
      "Hyper-parameters at iteration 2 : [ 4.51117914  0.25805766  0.01      ]\n",
      "\tHyper-parameters at outter iteration 12 : [ 4.68229943  0.26158089  0.01      ]\n",
      "Hyper-parameters at iteration 0 : [ 4.68229943  0.26158089  0.01      ]\n",
      "Hyper-parameters at iteration 1 : [ 4.68242792  0.26113451  0.01      ]\n",
      "\tHyper-parameters at outter iteration 13 : [ 4.68246836  0.26112513  0.01      ]\n",
      "Hyper-parameters at iteration 0 : [ 4.68246836  0.26112513  0.01      ]\n",
      "Hyper-parameters at iteration 1 : [ 4.6825158   0.26093686  0.01      ]\n",
      "\tHyper-parameters at outter iteration 14 : [ 4.68255383  0.26093337  0.01      ]\n",
      "Hyper-parameters at iteration 0 : [ 4.68255383  0.26093337  0.01      ]\n",
      "Hyper-parameters at iteration 1 : [ 4.68260025  0.26084959  0.01      ]\n",
      "\tHyper-parameters at outter iteration 15 : [ 4.68353849  0.26086748  0.01      ]\n",
      "Hyper-parameters at iteration 0 : [ 4.68353849  0.26086748  0.01      ]\n",
      "Hyper-parameters at iteration 1 : [ 4.68373934  0.26078374  0.01      ]\n",
      "Hyper-parameters at iteration 2 : [ 4.68842238  0.26077887  0.01      ]\n",
      "\tHyper-parameters at outter iteration 16 : [ 4.74462457  0.26158011  0.01      ]\n",
      "Hyper-parameters at iteration 0 : [ 4.74462457  0.26158011  0.01      ]\n",
      "Hyper-parameters at iteration 1 : [ 4.74464275  0.26177897  0.01      ]\n",
      "\tHyper-parameters at outter iteration 17 : [ 4.74511588  0.26178934  0.01      ]\n",
      "Hyper-parameters at iteration 0 : [ 4.74511588  0.26178934  0.01      ]\n",
      "Hyper-parameters at iteration 1 : [ 4.74514335  0.26186536  0.01      ]\n",
      "Hyper-parameters at iteration 2 : [ 4.74516605  0.2618573   0.01      ]\n",
      "Hyper-parameters at iteration 3 : [ 4.74557498  0.2617988   0.01      ]\n",
      "Hyper-parameters at iteration 4 : [ 4.74651085  0.26174515  0.01      ]\n",
      "\tHyper-parameters at outter iteration 18 : [ 4.74956995  0.26168046  0.01      ]\n",
      "Hyper-parameters at iteration 0 : [ 4.74956995  0.26168046  0.01      ]\n",
      "Hyper-parameters at iteration 1 : [ 4.7496013  0.2619951  0.01     ]\n",
      "Hyper-parameters at iteration 2 : [ 4.74960961  0.26186022  0.01      ]\n",
      "Hyper-parameters at iteration 3 : [ 4.74972262  0.26184426  0.01      ]\n",
      "\tHyper-parameters at outter iteration 19 : [ 4.75121757  0.26176461  0.01      ]\n"
     ]
    }
   ],
   "source": [
    "options = {'maxfun': 5, 'disp': False, 'mydisp': True, 'num_updates':5}\n",
    "res = gp.fit(x_tr, y_tr, method='vi_taylor', method_options=options)"
   ]
  },
  {
   "cell_type": "code",
   "execution_count": 34,
   "metadata": {
    "collapsed": true
   },
   "outputs": [],
   "source": [
    "y_pred = gp.predict(x_test)"
   ]
  },
  {
   "cell_type": "code",
   "execution_count": 35,
   "metadata": {
    "collapsed": false
   },
   "outputs": [
    {
     "data": {
      "text/plain": [
       "89"
      ]
     },
     "execution_count": 35,
     "metadata": {},
     "output_type": "execute_result"
    }
   ],
   "source": [
    "np.sum(y_pred == y_te)"
   ]
  },
  {
   "cell_type": "code",
   "execution_count": 36,
   "metadata": {
    "collapsed": false
   },
   "outputs": [
    {
     "data": {
      "text/plain": [
       "<matplotlib.text.Text at 0x10d6e0438>"
      ]
     },
     "execution_count": 36,
     "metadata": {},
     "output_type": "execute_result"
    },
    {
     "data": {
      "image/png": "[encoded data removed]",
      "text/plain": [
       "<matplotlib.figure.Figure at 0x10d7eda90>"
      ]
     },
     "metadata": {},
     "output_type": "display_data"
    }
   ],
   "source": [
    "metric = lambda w: gp.get_prediction_quality(w, x_test, y_te)\n",
    "x_lst, y_lst = res.plot_performance(metric, 't', freq=1)\n",
    "plt.plot(x_lst[1:], y_lst[1:], '-bx', label='vi-JJ')\n",
    "plt.ylim([.8, 1.])\n",
    "plt.legend()\n",
    "plt.xlabel('Seconds')\n",
    "plt.ylabel('Accuracy')"
   ]
  },
  {
   "cell_type": "markdown",
   "metadata": {},
   "source": [
    "### vi-JJ-hybrid"
   ]
  },
  {
   "cell_type": "code",
   "execution_count": 37,
   "metadata": {
    "collapsed": false
   },
   "outputs": [],
   "source": [
    "gp = GPCSparse(SE(np.array([1., .5, .2])), inputs=30)"
   ]
  },
  {
   "cell_type": "code",
   "execution_count": 38,
   "metadata": {
    "collapsed": false
   },
   "outputs": [
    {
     "name": "stdout",
     "output_type": "stream",
     "text": [
      "Hybrid mode\n",
      "\tAnalytic updates number:5\n",
      "\t Outter iteration 0\n",
      "Hyper-parameters at iteration 0 : [ 1.   0.5  0.2  1.   1. ]\n",
      "Hyper-parameters at iteration 1 : [ 1.99952494  0.47524481  0.19040105  0.99924702  1.00085465]\n",
      "Hyper-parameters at iteration 2 : [ 1.9695574   0.22273416  0.09248876  0.99909695  1.00201683]\n",
      "\t Outter iteration 1\n",
      "Hyper-parameters at iteration 0 : [ 1.94743489  0.20939195  0.07665789  1.14089892  2.35755991]\n",
      "Hyper-parameters at iteration 1 : [ 2.41770914  0.19561832  0.07205329  1.14092508  2.3577203 ]\n",
      "Hyper-parameters at iteration 2 : [ 2.70924598  0.22457241  0.06333428  1.1409412   2.35783442]\n",
      "Hyper-parameters at iteration 3 : [ 2.83898094  0.22651444  0.05755494  1.14094989  2.35789696]\n",
      "Hyper-parameters at iteration 4 : [ 2.99138588  0.2284879   0.02570717  1.14097231  2.35811731]\n",
      "\t Outter iteration 2\n",
      "Hyper-parameters at iteration 0 : [ 3.01411151  0.22890989  0.01        1.34920336  2.94808952]\n",
      "Hyper-parameters at iteration 1 : [ 3.15007472  0.21310639  0.01        1.34924818  2.94828495]\n",
      "Hyper-parameters at iteration 2 : [ 3.12524925  0.22010586  0.01        1.34923944  2.94825083]\n",
      "Hyper-parameters at iteration 3 : [ 3.14944672  0.22197915  0.01        1.34924672  2.94828792]\n",
      "Hyper-parameters at iteration 4 : [ 3.38297511  0.23219769  0.01        1.34931839  2.94864638]\n",
      "\t Outter iteration 3\n",
      "Hyper-parameters at iteration 0 : [ 3.53916477  0.23521007  0.01        1.44342315  3.24059477]\n",
      "Hyper-parameters at iteration 1 : [ 3.56936654  0.22884989  0.01        1.4434357   3.24064862]\n",
      "Hyper-parameters at iteration 2 : [ 3.60982893  0.22800485  0.01        1.44344979  3.24072483]\n",
      "\t Outter iteration 4\n",
      "Hyper-parameters at iteration 0 : [ 3.73157154  0.22945593  0.01        1.46567961  3.39888852]\n",
      "Hyper-parameters at iteration 1 : [ 3.73196311  0.22934074  0.01        1.46567976  3.39888916]\n",
      "Hyper-parameters at iteration 2 : [ 3.73874404  0.22844489  0.01        1.4656824   3.39890047]\n",
      "Hyper-parameters at iteration 3 : [ 3.75191788  0.22776852  0.01        1.46568744  3.3989226 ]\n",
      "Hyper-parameters at iteration 4 : [ 3.79586332  0.22706089  0.01        1.46570419  3.39899689]\n",
      "\t Outter iteration 5\n",
      "Hyper-parameters at iteration 0 : [ 3.88967612  0.22758037  0.01        1.48588463  3.51224949]\n",
      "Hyper-parameters at iteration 1 : [ 3.88990246  0.23017255  0.01        1.48588472  3.51224984]\n",
      "\t Outter iteration 6\n",
      "Hyper-parameters at iteration 0 : [ 3.89575097  0.23015658  0.01        1.50412263  3.53363989]\n",
      "Hyper-parameters at iteration 1 : [ 3.89608957  0.23107204  0.01        1.50412265  3.53364002]\n",
      "\t Outter iteration 7\n",
      "Hyper-parameters at iteration 0 : [ 3.90358968  0.23122178  0.01        1.51014824  3.54442485]\n",
      "Hyper-parameters at iteration 1 : [ 3.90429949  0.23188587  0.01        1.51014826  3.544425  ]\n",
      "\t Outter iteration 8\n",
      "Hyper-parameters at iteration 0 : [ 3.91947892  0.23219141  0.01        1.51520869  3.55481507]\n",
      "Hyper-parameters at iteration 1 : [ 3.93010573  0.23058563  0.01        1.5152089   3.55481679]\n",
      "Hyper-parameters at iteration 2 : [ 3.9848398   0.23180493  0.01        1.51520911  3.5548263 ]\n",
      "\t Outter iteration 9\n",
      "Hyper-parameters at iteration 0 : [ 4.3603534   0.24130486  0.01        1.5669321   3.70780299]\n",
      "Hyper-parameters at iteration 1 : [ 4.36146947  0.24054398  0.01        1.56693286  3.7078059 ]\n",
      "\t Outter iteration 10\n",
      "Hyper-parameters at iteration 0 : [ 4.3619145   0.24054065  0.01        1.57605638  3.74071266]\n",
      "Hyper-parameters at iteration 1 : [ 4.36273928  0.24004979  0.01        1.57605656  3.74071349]\n",
      "\t Outter iteration 11\n",
      "Hyper-parameters at iteration 0 : [ 4.36336441  0.24005453  0.01        1.57923347  3.75744703]\n",
      "Hyper-parameters at iteration 1 : [ 4.36666546  0.24096346  0.01        1.57923382  3.7574488 ]\n",
      "Hyper-parameters at iteration 2 : [ 4.42465992  0.24049025  0.01        1.57924191  3.75747951]\n",
      "\t Outter iteration 12\n",
      "Hyper-parameters at iteration 0 : [ 4.61618146  0.24334846  0.01        1.60312045  3.8511777 ]\n",
      "Hyper-parameters at iteration 1 : [ 4.61627537  0.24416372  0.01        1.60312052  3.85117799]\n",
      "\t Outter iteration 13\n",
      "Hyper-parameters at iteration 0 : [ 4.61857132  0.24420425  0.01        1.61395487  3.86878315]\n",
      "Hyper-parameters at iteration 1 : [ 4.61874273  0.24448065  0.01        1.6139549   3.86878331]\n",
      "\t Outter iteration 14\n",
      "Hyper-parameters at iteration 0 : [ 4.62245041  0.24455051  0.01        1.61779735  3.878264  ]\n",
      "Hyper-parameters at iteration 1 : [ 4.62327485  0.24495152  0.01        1.61779742  3.87826443]\n",
      "Hyper-parameters at iteration 2 : [ 4.63730315  0.24440605  0.01        1.61779945  3.87827142]\n",
      "\t Outter iteration 15\n",
      "Hyper-parameters at iteration 0 : [ 4.70052096  0.24446146  0.01        1.62203471  3.91456401]\n",
      "Hyper-parameters at iteration 1 : [ 4.70061683  0.24543517  0.01        1.62203474  3.91456413]\n",
      "\t Outter iteration 16\n",
      "Hyper-parameters at iteration 0 : [ 4.70301231  0.24547525  0.01        1.62900973  3.92032369]\n",
      "Hyper-parameters at iteration 1 : [ 4.70314089  0.24584933  0.01        1.62900973  3.92032374]\n",
      "\t Outter iteration 17\n",
      "Hyper-parameters at iteration 0 : [ 4.70598732  0.24590272  0.01        1.63133269  3.923679  ]\n",
      "Hyper-parameters at iteration 1 : [ 4.70631579  0.24632134  0.01        1.6313327   3.92367908]\n",
      "Hyper-parameters at iteration 2 : [ 4.70639168  0.24616122  0.01        1.63133273  3.92367908]\n",
      "Hyper-parameters at iteration 3 : [ 4.70686619  0.24601428  0.01        1.63133284  3.92367917]\n",
      "Hyper-parameters at iteration 4 : [ 4.70902542  0.24574331  0.01        1.63133327  3.92367959]\n",
      "\t Outter iteration 18\n",
      "Hyper-parameters at iteration 0 : [ 4.71514863  0.2454092   0.01        1.63054292  3.93206946]\n",
      "Hyper-parameters at iteration 1 : [ 4.71526476  0.24600082  0.01        1.63054293  3.9320695 ]\n",
      "\t Outter iteration 19\n",
      "Hyper-parameters at iteration 0 : [ 4.71793547  0.24605     0.01        1.63373925  3.93321618]\n",
      "Hyper-parameters at iteration 1 : [ 4.71809716  0.24633333  0.01        1.63373925  3.9332162 ]\n",
      "\t Outter iteration 20\n",
      "Hyper-parameters at iteration 0 : [ 4.72160233  0.24639878  0.01        1.63512973  3.93442402]\n",
      "Hyper-parameters at iteration 1 : [ 4.72215774  0.24673298  0.01        1.63512973  3.93442407]\n",
      "Hyper-parameters at iteration 2 : [ 4.72430581  0.24658091  0.01        1.63512992  3.93442421]\n",
      "Hyper-parameters at iteration 3 : [ 4.7578356   0.24596368  0.01        1.63513271  3.9344266 ]\n",
      "\t Outter iteration 21\n",
      "Hyper-parameters at iteration 0 : [ 4.82206617  0.24626201  0.01        1.63856169  3.97398327]\n",
      "Hyper-parameters at iteration 1 : [ 4.82213869  0.24746984  0.01        1.63856172  3.97398339]\n",
      "\t Outter iteration 22\n",
      "Hyper-parameters at iteration 0 : [ 4.82412907  0.24749783  0.01        1.64640374  3.97695442]\n",
      "Hyper-parameters at iteration 1 : [ 4.82422776  0.24792303  0.01        1.64640374  3.97695445]\n",
      "\t Outter iteration 23\n",
      "Hyper-parameters at iteration 0 : [ 4.82646481  0.24796436  0.01        1.64850658  3.97834951]\n",
      "Hyper-parameters at iteration 1 : [ 4.82670652  0.2484282   0.01        1.64850658  3.97834956]\n",
      "Hyper-parameters at iteration 2 : [ 4.82672659  0.24821367  0.01        1.64850662  3.97834955]\n",
      "Hyper-parameters at iteration 3 : [ 4.82690524  0.24815293  0.01        1.64850667  3.97834956]\n",
      "Hyper-parameters at iteration 4 : [ 4.82858554  0.24791013  0.01        1.64850714  3.97834973]\n",
      "\t Outter iteration 24\n",
      "Hyper-parameters at iteration 0 : [ 4.83263417  0.2476574   0.01        1.64795476  3.98393944]\n",
      "Hyper-parameters at iteration 1 : [ 4.83273235  0.24814029  0.01        1.64795477  3.98393947]\n",
      "\t Outter iteration 25\n",
      "Hyper-parameters at iteration 0 : [ 4.83498112  0.24818153  0.01        1.65046086  3.98458446]\n",
      "Hyper-parameters at iteration 1 : [ 4.83522122  0.2486101   0.01        1.65046086  3.98458448]\n",
      "Hyper-parameters at iteration 2 : [ 4.83525394  0.24842368  0.01        1.65046089  3.98458447]\n",
      "Hyper-parameters at iteration 3 : [ 4.8354628   0.24835063  0.01        1.65046095  3.98458447]\n",
      "Hyper-parameters at iteration 4 : [ 4.83702761  0.24811989  0.01        1.65046134  3.98458448]\n",
      "\t Outter iteration 26\n",
      "Hyper-parameters at iteration 0 : [ 4.84096316  0.24786588  0.01        1.64968197  3.98917901]\n",
      "Hyper-parameters at iteration 1 : [ 4.84106196  0.2483313   0.01        1.64968198  3.98917903]\n",
      "\t Outter iteration 27\n",
      "Hyper-parameters at iteration 0 : [ 4.84331679  0.24837274  0.01        1.65198425  3.98920811]\n",
      "Hyper-parameters at iteration 1 : [ 4.84355174  0.24876218  0.01        1.65198425  3.98920812]\n",
      "Hyper-parameters at iteration 2 : [ 4.84359903  0.24860582  0.01        1.65198428  3.98920811]\n",
      "Hyper-parameters at iteration 3 : [ 4.84385565  0.24851677  0.01        1.65198435  3.9892081 ]\n",
      "Hyper-parameters at iteration 4 : [ 4.84536693  0.24829744  0.01        1.65198469  3.98920804]\n",
      "\t Outter iteration 28\n",
      "Hyper-parameters at iteration 0 : [ 4.84936899  0.24804033  0.01        1.65106355  3.99345783]\n",
      "Hyper-parameters at iteration 1 : [ 4.84946702  0.24849866  0.01        1.65106356  3.99345785]\n",
      "\t Outter iteration 29\n",
      "Hyper-parameters at iteration 0 : [ 4.85170268  0.24853976  0.01        1.65329576  3.99323272]\n",
      "Hyper-parameters at iteration 1 : [ 4.85193253  0.24891113  0.01        1.65329576  3.99323273]\n",
      "Hyper-parameters at iteration 2 : [ 4.85198602  0.24876799  0.01        1.65329579  3.99323272]\n",
      "Hyper-parameters at iteration 3 : [ 4.85226837  0.2486717   0.01        1.65329586  3.9932327 ]\n",
      "Hyper-parameters at iteration 4 : [ 4.85377372  0.24845751  0.01        1.65329619  3.99323262]\n",
      "\t Outter iteration 30\n",
      "Hyper-parameters at iteration 0 : [ 4.85785228  0.24819956  0.01        1.65231864  3.99737048]\n",
      "Hyper-parameters at iteration 1 : [ 4.85794898  0.24865511  0.01        1.65231865  3.99737049]\n",
      "\t Outter iteration 31\n",
      "Hyper-parameters at iteration 0 : [ 4.86015561  0.24869565  0.01        1.65452549  3.99703623]\n",
      "Hyper-parameters at iteration 1 : [ 4.86038019  0.2490586   0.01        1.65452549  3.99703623]\n",
      "Hyper-parameters at iteration 2 : [ 4.86043527  0.24892097  0.01        1.65452552  3.99703622]\n",
      "Hyper-parameters at iteration 3 : [ 4.8607229   0.24882348  0.01        1.65452559  3.9970362 ]\n",
      "Hyper-parameters at iteration 4 : [ 4.86221052  0.24861304  0.01        1.65452592  3.9970361 ]\n",
      "\t Outter iteration 32\n",
      "Hyper-parameters at iteration 0 : [ 4.86626865  0.24835738  0.01        1.65353884  4.00107813]\n",
      "Hyper-parameters at iteration 1 : [ 4.86636402  0.24880815  0.01        1.65353884  4.00107814]\n",
      "\t Outter iteration 33\n",
      "Hyper-parameters at iteration 0 : [ 4.86854088  0.24884811  0.01        1.65571689  4.00070004]\n",
      "Hyper-parameters at iteration 1 : [ 4.86876014  0.24920318  0.01        1.65571688  4.00070005]\n",
      "Hyper-parameters at iteration 2 : [ 4.86881645  0.24907058  0.01        1.65571691  4.00070003]\n",
      "Hyper-parameters at iteration 3 : [ 4.86910805  0.2489723   0.01        1.65571698  4.00070001]\n",
      "Hyper-parameters at iteration 4 : [ 4.87057728  0.24876555  0.01        1.65571731  4.00069992]\n",
      "\t Outter iteration 34\n",
      "Hyper-parameters at iteration 0 : [ 4.87460886  0.24851243  0.01        1.65473073  4.00468401]\n",
      "Hyper-parameters at iteration 1 : [ 4.87470289  0.24895853  0.01        1.65473073  4.00468403]\n",
      "\t Outter iteration 35\n",
      "Hyper-parameters at iteration 0 : [ 4.87684945  0.24899792  0.01        1.65688476  4.00428774]\n",
      "Hyper-parameters at iteration 1 : [ 4.87706348  0.24934597  0.01        1.65688475  4.00428774]\n",
      "Hyper-parameters at iteration 2 : [ 4.87712058  0.2492177   0.01        1.65688478  4.00428773]\n",
      "Hyper-parameters at iteration 3 : [ 4.87741432  0.24911917  0.01        1.65688486  4.00428771]\n",
      "Hyper-parameters at iteration 4 : [ 4.87886395  0.24891598  0.01        1.65688518  4.00428761]\n",
      "\t Outter iteration 36\n",
      "Hyper-parameters at iteration 0 : [ 4.88286002  0.24866567  0.01        1.65590453  4.0082223 ]\n",
      "Hyper-parameters at iteration 1 : [ 4.88295272  0.24910696  0.01        1.65590454  4.00822231]\n",
      "\t Outter iteration 37\n",
      "Hyper-parameters at iteration 0 : [ 4.88506927  0.24914579  0.01        1.65803516  4.00781788]\n",
      "Hyper-parameters at iteration 1 : [ 4.88527819  0.24948707  0.01        1.65803516  4.00781788]\n",
      "Hyper-parameters at iteration 2 : [ 4.88533598  0.24936293  0.01        1.65803519  4.00781787]\n",
      "Hyper-parameters at iteration 3 : [ 4.88563166  0.24926422  0.01        1.65803526  4.00781785]\n",
      "Hyper-parameters at iteration 4 : [ 4.8870624   0.24906448  0.01        1.65803558  4.00781775]\n",
      "\t Outter iteration 38\n",
      "Hyper-parameters at iteration 0 : [ 4.89102372  0.24881696  0.01        1.6570622   4.01170991]\n",
      "Hyper-parameters at iteration 1 : [ 4.89111509  0.24925357  0.01        1.65706221  4.01170993]\n",
      "\t Outter iteration 39\n",
      "Hyper-parameters at iteration 0 : [ 4.89320197  0.24929185  0.01        1.65917066  4.0113011 ]\n",
      "Hyper-parameters at iteration 1 : [ 4.89340593  0.24962666  0.01        1.65917065  4.0113011 ]\n",
      "Hyper-parameters at iteration 2 : [ 4.89346426  0.24950643  0.01        1.65917068  4.01130109]\n",
      "Hyper-parameters at iteration 3 : [ 4.89376161  0.24940764  0.01        1.65917076  4.01130106]\n",
      "Hyper-parameters at iteration 4 : [ 4.89517401  0.24921124  0.01        1.65917108  4.01130097]\n",
      "\t Outter iteration 40\n",
      "Hyper-parameters at iteration 0 : [ 4.89910066  0.2489665   0.01        1.65820563  4.01515301]\n",
      "Hyper-parameters at iteration 1 : [ 4.89919073  0.24939851  0.01        1.65820564  4.01515303]\n",
      "\t Outter iteration 41\n",
      "Hyper-parameters at iteration 0 : [ 4.90124836  0.24943624  0.01        1.66029242  4.0147414 ]\n",
      "Hyper-parameters at iteration 1 : [ 4.90144749  0.24976482  0.01        1.66029242  4.0147414 ]\n",
      "Hyper-parameters at iteration 2 : [ 4.90150629  0.24964831  0.01        1.66029244  4.01474139]\n",
      "Hyper-parameters at iteration 3 : [ 4.90180517  0.24954949  0.01        1.66029252  4.01474137]\n",
      "Hyper-parameters at iteration 4 : [ 4.90319989  0.24935634  0.01        1.66029284  4.01474127]\n",
      "\t Outter iteration 42\n",
      "Hyper-parameters at iteration 0 : [ 4.90709275  0.24911434  0.01        1.65933556  4.01855484]\n",
      "Hyper-parameters at iteration 1 : [ 4.90718154  0.24954185  0.01        1.65933556  4.01855485]\n",
      "\t Outter iteration 43\n",
      "Hyper-parameters at iteration 0 : [ 4.90921037  0.24957904  0.01        1.6614012   4.01814103]\n",
      "Hyper-parameters at iteration 1 : [ 4.90940481  0.24990159  0.01        1.6614012   4.01814104]\n",
      "Hyper-parameters at iteration 2 : [ 4.909464    0.24978865  0.01        1.66140123  4.01814103]\n",
      "Hyper-parameters at iteration 3 : [ 4.9097644   0.24968983  0.01        1.6614013   4.018141  ]\n",
      "Hyper-parameters at iteration 4 : [ 4.91114224  0.24949982  0.01        1.66140162  4.0181409 ]\n",
      "\t Outter iteration 44\n",
      "Hyper-parameters at iteration 0 : [ 4.91500286  0.24926051  0.01        1.66045245  4.02191763]\n",
      "Hyper-parameters at iteration 1 : [ 4.91509038  0.24968365  0.01        1.66045245  4.02191765]\n",
      "\t Outter iteration 45\n",
      "Hyper-parameters at iteration 0 : [ 4.91709083  0.24972029  0.01        1.66249753  4.02150189]\n",
      "Hyper-parameters at iteration 1 : [ 4.91728073  0.25003701  0.01        1.66249753  4.0215019 ]\n",
      "Hyper-parameters at iteration 2 : [ 4.91734024  0.24992751  0.01        1.66249755  4.02150189]\n",
      "Hyper-parameters at iteration 3 : [ 4.91764208  0.24982872  0.01        1.66249763  4.02150186]\n",
      "Hyper-parameters at iteration 4 : [ 4.91900372  0.24964176  0.01        1.66249794  4.02150176]\n",
      "\t Outter iteration 46\n",
      "Hyper-parameters at iteration 0 : [ 4.92283322  0.2494051   0.01        1.66155686  4.02524273]\n",
      "Hyper-parameters at iteration 1 : [ 4.92291949  0.24982395  0.01        1.66155686  4.02524274]\n",
      "\t Outter iteration 47\n",
      "Hyper-parameters at iteration 0 : [ 4.92489199  0.24986007  0.01        1.66358181  4.02482525]\n",
      "Hyper-parameters at iteration 1 : [ 4.92507747  0.25017114  0.01        1.6635818   4.02482525]\n",
      "Hyper-parameters at iteration 2 : [ 4.92513723  0.25006493  0.01        1.66358183  4.02482524]\n",
      "Hyper-parameters at iteration 3 : [ 4.92544047  0.2499662   0.01        1.66358191  4.02482521]\n",
      "Hyper-parameters at iteration 4 : [ 4.92678653  0.24978221  0.01        1.66358222  4.02482511]\n",
      "\t Outter iteration 48\n",
      "Hyper-parameters at iteration 0 : [ 4.93058598  0.24954815  0.01        1.66264918  4.02853129]\n",
      "Hyper-parameters at iteration 1 : [ 4.93067103  0.24996281  0.01        1.66264918  4.0285313 ]\n",
      "\t Outter iteration 49\n",
      "Hyper-parameters at iteration 0 : [ 4.93261599  0.24999839  0.01        1.66465439  4.02811221]\n",
      "Hyper-parameters at iteration 1 : [ 4.93279717  0.250304    0.01        1.66465439  4.02811221]\n",
      "Hyper-parameters at iteration 2 : [ 4.93285712  0.25020095  0.01        1.66465441  4.0281122 ]\n",
      "Hyper-parameters at iteration 3 : [ 4.93316171  0.25010232  0.01        1.66465449  4.02811218]\n",
      "Hyper-parameters at iteration 4 : [ 4.93449276  0.2499212   0.01        1.6646548   4.02811208]\n"
     ]
    }
   ],
   "source": [
    "options = {'maxfun': 5, 'disp': False, 'mydisp': True, 'num_updates':5, 'max_out_iter':50}\n",
    "res = gp.fit(x_tr, y_tr, method='vi_jj_hybrid', method_options=options)"
   ]
  },
  {
   "cell_type": "code",
   "execution_count": 39,
   "metadata": {
    "collapsed": true
   },
   "outputs": [],
   "source": [
    "y_pred = gp.predict(x_test)"
   ]
  },
  {
   "cell_type": "code",
   "execution_count": 40,
   "metadata": {
    "collapsed": false
   },
   "outputs": [
    {
     "data": {
      "text/plain": [
       "91"
      ]
     },
     "execution_count": 40,
     "metadata": {},
     "output_type": "execute_result"
    }
   ],
   "source": [
    "np.sum(y_pred == y_te)"
   ]
  },
  {
   "cell_type": "code",
   "execution_count": 41,
   "metadata": {
    "collapsed": false
   },
   "outputs": [
    {
     "data": {
      "text/plain": [
       "<matplotlib.text.Text at 0x10d66cc18>"
      ]
     },
     "execution_count": 41,
     "metadata": {},
     "output_type": "execute_result"
    },
    {
     "data": {
      "image/png": "[encoded data removed]",
      "text/plain": [
       "<matplotlib.figure.Figure at 0x10d6ed080>"
      ]
     },
     "metadata": {},
     "output_type": "display_data"
    }
   ],
   "source": [
    "metric = lambda w: gp.get_prediction_quality(w, x_test, y_te)\n",
    "x_lst, y_lst = res.plot_performance(metric, 't', freq=1)\n",
    "plt.plot(x_lst[1:], y_lst[1:], '-mx', label='vi-JJ-hybrid')\n",
    "plt.ylim([.8, 1.])\n",
    "plt.legend()\n",
    "plt.xlabel('Seconds')\n",
    "plt.ylabel('Accuracy')"
   ]
  },
  {
   "cell_type": "markdown",
   "metadata": {},
   "source": [
    "### vi-JJ-full"
   ]
  },
  {
   "cell_type": "code",
   "execution_count": 42,
   "metadata": {
    "collapsed": false
   },
   "outputs": [],
   "source": [
    "gp = GPCSparse(SE(np.array([1., .5, .2])), inputs=30)"
   ]
  },
  {
   "cell_type": "code",
   "execution_count": 43,
   "metadata": {
    "collapsed": false
   },
   "outputs": [
    {
     "name": "stdout",
     "output_type": "stream",
     "text": [
      "Standard mode\n",
      "Hyper-parameters at iteration 0 : [ 1.   0.5  0.2  1.   1. ]\n",
      "Hyper-parameters at iteration 1 : [ 1.99952659  0.47527362  0.19041222  0.99924726  1.00085667]\n",
      "Hyper-parameters at iteration 2 : [ 1.96209278  0.22778643  0.0944478   0.99911158  1.00195702]\n",
      "Hyper-parameters at iteration 3 : [ 1.94065717  0.21347317  0.07983353  0.99911558  1.00205247]\n",
      "Hyper-parameters at iteration 4 : [ 1.88647815  0.21287837  0.04564     0.99914265  1.00218878]\n",
      "Hyper-parameters at iteration 5 : [ 1.83487029  0.21700569  0.01        0.9991257   1.00276371]\n",
      "Hyper-parameters at iteration 6 : [ 1.84643744  0.21677526  0.01        0.99910707  1.00287743]\n",
      "Hyper-parameters at iteration 7 : [ 1.88320855  0.21749859  0.01        0.99903619  1.00336411]\n",
      "Hyper-parameters at iteration 8 : [ 1.90043517  0.21815012  0.01        0.99896179  1.00403549]\n",
      "Hyper-parameters at iteration 9 : [ 1.98449154  0.217033    0.01        0.99785346  1.01545176]\n",
      "Hyper-parameters at iteration 10 : [ 2.20277433  0.21840036  0.01        0.99371592  1.05884976]\n",
      "Hyper-parameters at iteration 11 : [ 5.73241319  0.28555593  0.01        0.91366466  1.90428293]\n",
      "Hyper-parameters at iteration 12 : [ 8.26141353  0.34095096  0.01        0.85764712  2.4981103 ]\n",
      "Hyper-parameters at iteration 13 : [ 8.70558105  0.33383855  0.01        0.84380578  2.64702382]\n",
      "Hyper-parameters at iteration 14 : [ 9.06455764  0.32101842  0.01        0.82992902  2.79826842]\n",
      "Hyper-parameters at iteration 15 : [ 9.1468246   0.32243566  0.01        0.82679145  2.83283215]\n",
      "Hyper-parameters at iteration 16 : [ 9.2043173   0.32389339  0.01        0.8154434   2.96386462]\n",
      "Hyper-parameters at iteration 17 : [ 8.66310069  0.31814968  0.01        0.80120924  3.14411338]\n",
      "Hyper-parameters at iteration 18 : [ 5.67964566  0.28198188  0.01        0.77453109  3.53253294]\n",
      "Hyper-parameters at iteration 19 : [ 4.81931409  0.25764533  0.01        0.78038603  3.48554965]\n",
      "Hyper-parameters at iteration 20 : [ 4.50553916  0.23650478  0.01        0.82808677  2.93673462]\n",
      "Hyper-parameters at iteration 21 : [ 3.76667947  0.23318201  0.01        0.83841095  2.83595065]\n",
      "Hyper-parameters at iteration 22 : [ 3.93475351  0.24218093  0.01        0.83090853  2.91980016]\n",
      "Hyper-parameters at iteration 23 : [ 3.86237063  0.24101532  0.01        0.83311806  2.89607194]\n",
      "Hyper-parameters at iteration 24 : [ 3.81517966  0.23446988  0.01        0.85863199  3.04522471]\n",
      "Hyper-parameters at iteration 25 : [ 4.41167845  0.23701447  0.01        1.0568738   3.46122943]\n",
      "Hyper-parameters at iteration 26 : [ 4.69357208  0.24899154  0.01        1.14541448  3.58233687]\n",
      "Hyper-parameters at iteration 27 : [ 4.685529    0.24677693  0.01        1.14640684  3.59578928]\n",
      "Hyper-parameters at iteration 28 : [ 4.69428062  0.24650612  0.01        1.14734427  3.6080463 ]\n",
      "Hyper-parameters at iteration 29 : [ 4.69787213  0.24653526  0.01        1.14788421  3.61096953]\n",
      "Hyper-parameters at iteration 30 : [ 4.72305739  0.24671849  0.01        1.15197974  3.62678695]\n",
      "Hyper-parameters at iteration 31 : [ 4.68805087  0.24709541  0.01        1.15682019  3.64851031]\n"
     ]
    }
   ],
   "source": [
    "options = {'maxiter': 30, 'disp': False, 'mydisp': True}\n",
    "res = gp.fit(x_tr, y_tr, method='vi_jj_full', method_options=options)"
   ]
  },
  {
   "cell_type": "code",
   "execution_count": 44,
   "metadata": {
    "collapsed": true
   },
   "outputs": [],
   "source": [
    "y_pred = gp.predict(x_test)"
   ]
  },
  {
   "cell_type": "code",
   "execution_count": 45,
   "metadata": {
    "collapsed": false
   },
   "outputs": [
    {
     "data": {
      "text/plain": [
       "90"
      ]
     },
     "execution_count": 45,
     "metadata": {},
     "output_type": "execute_result"
    }
   ],
   "source": [
    "np.sum(y_pred == y_te)"
   ]
  },
  {
   "cell_type": "code",
   "execution_count": 46,
   "metadata": {
    "collapsed": false
   },
   "outputs": [
    {
     "data": {
      "text/plain": [
       "<matplotlib.text.Text at 0x10d872630>"
      ]
     },
     "execution_count": 46,
     "metadata": {},
     "output_type": "execute_result"
    },
    {
     "data": {
      "image/png": "[encoded data removed]",
      "text/plain": [
       "<matplotlib.figure.Figure at 0x10d5f0518>"
      ]
     },
     "metadata": {},
     "output_type": "display_data"
    }
   ],
   "source": [
    "metric = lambda w: gp.get_prediction_quality(w, x_test, y_te, x_tr, y_tr)\n",
    "x_lst, y_lst = res.plot_performance(metric, 't', freq=1)\n",
    "plt.plot(x_lst[1:], y_lst[1:], '-kx', label='vi-JJ-full')\n",
    "plt.ylim([.8, 1.])\n",
    "plt.legend()\n",
    "plt.xlabel('Seconds')\n",
    "plt.ylabel('Accuracy')"
   ]
  }
 ],
 "metadata": {
  "kernelspec": {
   "display_name": "Python 3",
   "language": "python",
   "name": "python3"
  },
  "language_info": {
   "codemirror_mode": {
    "name": "ipython",
    "version": 3
   },
   "file_extension": ".py",
   "mimetype": "text/x-python",
   "name": "python",
   "nbconvert_exporter": "python",
   "pygments_lexer": "ipython3",
   "version": "3.4.3"
  }
 },
 "nbformat": 4,
 "nbformat_minor": 0
}
